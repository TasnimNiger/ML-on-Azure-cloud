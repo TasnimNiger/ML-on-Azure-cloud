{
  "cells": [
    {
      "cell_type": "markdown",
      "metadata": {
        "nteract": {
          "transient": {
            "deleting": false
          }
        }
      },
      "source": [
        "## This notebook will show you how to create a processing job, and with the help of that processing job, you can do all the data pre-processing steps."
      ]
    },
    {
      "cell_type": "markdown",
      "metadata": {
        "nteract": {
          "transient": {
            "deleting": false
          }
        }
      },
      "source": [
        "**Refer below the steps along with screenshots to better understand the hands on part of the processing job:**\n",
        "\n",
        "**Step1: Create a folder called Data:**\n",
        "\n"
      ]
    },
    {
      "cell_type": "markdown",
      "metadata": {
        "nteract": {
          "transient": {
            "deleting": false
          }
        }
      },
      "source": [
        "**Note: Click on the 3 dots at the right of the folder in which we are working --> Create new Folder.**"
      ]
    },
    {
      "cell_type": "code",
      "execution_count": null,
      "metadata": {
        "gather": {
          "logged": 1682436924706
        },
        "jupyter": {
          "outputs_hidden": false,
          "source_hidden": false
        },
        "nteract": {
          "transient": {
            "deleting": false
          }
        }
      },
      "outputs": [],
      "source": [
        "from IPython import display\n"
      ]
    },
    {
      "cell_type": "code",
      "execution_count": 32,
      "metadata": {
        "gather": {
          "logged": 1682437139824
        },
        "jupyter": {
          "outputs_hidden": false,
          "source_hidden": false
        },
        "nteract": {
          "transient": {
            "deleting": false
          }
        }
      },
      "outputs": [
        {
          "data": {
            "image/png": "[encoded data removed]",
            "text/plain": [
              "<IPython.core.display.Image object>"
            ]
          },
          "execution_count": 32,
          "metadata": {},
          "output_type": "execute_result"
        }
      ],
      "source": [
        "display.Image(\"Image/Image1.2.png\")"
      ]
    },
    {
      "cell_type": "markdown",
      "metadata": {
        "nteract": {
          "transient": {
            "deleting": false
          }
        }
      },
      "source": [
        "**Step2: General imports**"
      ]
    },
    {
      "cell_type": "code",
      "execution_count": 40,
      "metadata": {
        "gather": {
          "logged": 1689135163098
        },
        "jupyter": {
          "outputs_hidden": false,
          "source_hidden": false
        },
        "nteract": {
          "transient": {
            "deleting": false
          }
        }
      },
      "outputs": [],
      "source": [
        "# Handle to the workspace\n",
        "from azure.ai.ml import MLClient\n",
        "\n",
        "# Authentication package\n",
        "from azure.identity import DefaultAzureCredential\n",
        "credential = DefaultAzureCredential()\n",
        "from azure.ai.ml.entities import Data\n",
        "from azure.ai.ml.constants import AssetTypes\n",
        "from azure.ai.ml import Input, Output\n",
        "from azure.ai.ml import command"
      ]
    },
    {
      "cell_type": "markdown",
      "metadata": {
        "nteract": {
          "transient": {
            "deleting": false
          }
        }
      },
      "source": [
        "**Step3: Upload the data file (\"brain_stroke_processed_v2.csv) extracted from brain_stroke_pre_processing notebook**"
      ]
    },
    {
      "cell_type": "markdown",
      "metadata": {
        "nteract": {
          "transient": {
            "deleting": false
          }
        }
      },
      "source": [
        "Let's explore the process of registering an external dataset as a data asset in the Azure ML environment. In this scenario, we will copy a local dataset to Azure blob storage and then proceed to register the file as a data asset."
      ]
    },
    {
      "cell_type": "code",
      "execution_count": 37,
      "metadata": {
        "gather": {
          "logged": 1689135152613
        },
        "jupyter": {
          "outputs_hidden": false,
          "source_hidden": false
        },
        "nteract": {
          "transient": {
            "deleting": false
          }
        }
      },
      "outputs": [],
      "source": [
        "local_data_path = 'data/brain_stroke_processed_v2.csv'"
      ]
    },
    {
      "cell_type": "code",
      "execution_count": 42,
      "metadata": {
        "gather": {
          "logged": 1689135177440
        },
        "jupyter": {
          "outputs_hidden": false,
          "source_hidden": false
        },
        "nteract": {
          "transient": {
            "deleting": false
          }
        }
      },
      "outputs": [],
      "source": [
        "data_asset = Data(\n",
        "    path=local_data_path,\n",
        "    type=AssetTypes.URI_FILE,\n",
        "    description=\"A dataset of brain stroke analysis\",\n",
        "    name=\"brain_stroke_processed\",\n",
        "    version=\"3\"\n",
        ")"
      ]
    },
    {
      "cell_type": "code",
      "execution_count": 43,
      "metadata": {
        "gather": {
          "logged": 1689135179216
        },
        "jupyter": {
          "outputs_hidden": false,
          "source_hidden": false
        },
        "nteract": {
          "transient": {
            "deleting": false
          }
        }
      },
      "outputs": [
        {
          "data": {
            "text/plain": [
              "Data({'skip_validation': False, 'mltable_schema_url': None, 'referenced_uris': None, 'type': 'uri_file', 'is_anonymous': False, 'auto_increment_version': False, 'auto_delete_setting': None, 'name': 'brain_stroke_processed', 'description': 'A dataset of brain stroke analysis', 'tags': {}, 'properties': {}, 'print_as_yaml': True, 'id': '/subscriptions/1c6d9ef7-1867-436f-986f-f37c475a295b/resourceGroups/testml/providers/Microsoft.MachineLearningServices/workspaces/azureml/data/brain_stroke_processed/versions/3', 'Resource__source_path': None, 'base_path': '/mnt/batch/tasks/shared/LS_root/mounts/clusters/checklab/code/Users/TESTXRC71JBY4S_1686047967735/mls3', 'creation_context': <azure.ai.ml.entities._system_data.SystemData object at 0x7fb90cd3c5e0>, 'serialize': <msrest.serialization.Serializer object at 0x7fb90cd3ca90>, 'version': '3', 'latest_version': None, 'path': 'azureml://subscriptions/1c6d9ef7-1867-436f-986f-f37c475a295b/resourcegroups/testml/workspaces/azureml/datastores/workspaceblobstore/paths/LocalUpload/bdfa881b95ba92750c61b0360b9302c5/brain_stroke_processed_v2.csv', 'datastore': None})"
            ]
          },
          "execution_count": 43,
          "metadata": {},
          "output_type": "execute_result"
        }
      ],
      "source": [
        "ml_client.data.create_or_update(data_asset)"
      ]
    },
    {
      "cell_type": "markdown",
      "metadata": {
        "nteract": {
          "transient": {
            "deleting": false
          }
        }
      },
      "source": [
        "Once the data asset is registered, it can be accessed and inspected as described in the previous section."
      ]
    },
    {
      "cell_type": "code",
      "execution_count": 44,
      "metadata": {
        "gather": {
          "logged": 1689135185743
        },
        "jupyter": {
          "outputs_hidden": false,
          "source_hidden": false
        },
        "nteract": {
          "transient": {
            "deleting": false
          }
        }
      },
      "outputs": [
        {
          "name": "stdout",
          "output_type": "stream",
          "text": [
            "check\n",
            "airbnb_data\n",
            "car_mpg_jun\n",
            "advertising\n",
            "diamond-prices-jan\n",
            "diamond-prices-may\n",
            "brain_stroke_processed\n"
          ]
        }
      ],
      "source": [
        "for registered_data in ml_client.data.list():\n",
        "    print(registered_data.name)"
      ]
    },
    {
      "cell_type": "markdown",
      "metadata": {
        "nteract": {
          "transient": {
            "deleting": false
          }
        }
      },
      "source": [
        "**Step4: Provide workspace details**"
      ]
    },
    {
      "cell_type": "markdown",
      "metadata": {
        "nteract": {
          "transient": {
            "deleting": false
          }
        }
      },
      "source": [
        "**Note: Select the subscription on the top right to see the credential information.**"
      ]
    },
    {
      "cell_type": "code",
      "execution_count": 14,
      "metadata": {
        "gather": {
          "logged": 1682424854478
        },
        "jupyter": {
          "outputs_hidden": false,
          "source_hidden": false
        },
        "nteract": {
          "transient": {
            "deleting": false
          }
        }
      },
      "outputs": [
        {
          "data": {
            "image/png": "[encoded data removed]",
            "text/plain": [
              "<IPython.core.display.Image object>"
            ]
          },
          "execution_count": 14,
          "metadata": {},
          "output_type": "execute_result"
        }
      ],
      "source": [
        "display.Image(\"Image/Image3.png\")"
      ]
    },
    {
      "cell_type": "code",
      "execution_count": 45,
      "metadata": {
        "gather": {
          "logged": 1689135199306
        },
        "jupyter": {
          "outputs_hidden": false,
          "source_hidden": false
        },
        "nteract": {
          "transient": {
            "deleting": false
          }
        }
      },
      "outputs": [],
      "source": [
        "# Get a handle to the workspace\n",
        "ml_client = MLClient(\n",
        "    credential=credential,\n",
        "    subscription_id=\"1c6d9ef7-1867-436f-986f-f37c475a295b\",\n",
        "    resource_group_name=\"testml\",\n",
        "    workspace_name=\"azureml\",\n",
        ")"
      ]
    },
    {
      "cell_type": "code",
      "execution_count": 46,
      "metadata": {
        "gather": {
          "logged": 1689135200259
        },
        "jupyter": {
          "outputs_hidden": false,
          "source_hidden": false
        },
        "nteract": {
          "transient": {
            "deleting": false
          }
        }
      },
      "outputs": [
        {
          "name": "stdout",
          "output_type": "stream",
          "text": [
            "Ready to work with azureml\n"
          ]
        }
      ],
      "source": [
        "# Get the workspace\n",
        "from azureml.core import Workspace\n",
        "\n",
        "ws = Workspace(subscription_id=\"1c6d9ef7-1867-436f-986f-f37c475a295b\",\n",
        "                resource_group=\"testml\",\n",
        "                workspace_name=\"azureml\")\n",
        "print('Ready to work with', ws.name)"
      ]
    },
    {
      "cell_type": "markdown",
      "metadata": {
        "nteract": {
          "transient": {
            "deleting": false
          }
        }
      },
      "source": [
        "**Step:4 Write down the processing script \"pre_process.py\" which will define the code to be executed for the processing job **\n",
        "\n",
        "Steps performed for data processing are as follows:\n",
        "\n",
        "* Import the necessary libraries\n",
        "\n",
        "* Set up command-line arguments using argparse. The script expects two arguments: --data for the path to the input data and --output for the path to the output data.\n",
        "\n",
        "* Parse the command-line arguments using argparse.\n",
        "\n",
        "* Prepare the data:\n",
        "\n",
        "* Read the input data from the specified path using pd.read_csv.\n",
        "\n",
        "* Data Cleaning:\n",
        "\n",
        "1. Define the target column and the numeric features.\n",
        "\n",
        "2. Separate the input features (X) and the target variable (y) from the dataset.\n",
        "\n",
        "3. Split the data into training and testing sets using train_test_split.\n",
        "\n",
        "* Prepare the data:\n",
        "\n",
        "1. Create a column transformer using make_column_transformer to apply a scaler (StandardScaler) to the numeric features.\n",
        "\n",
        "2. Apply the column transformer to the training and testing sets to transform the numeric features.\n",
        "\n",
        "* Define the output data store path.\n",
        "\n",
        "* Define the paths for the output files: training features, training labels, testing features, and testing labels.\n",
        "\n",
        "* Save the transformed training features to a CSV file using pd.DataFrame.to_csv.\n",
        "\n",
        "* Save the transformed testing features to a CSV file.\n",
        "\n",
        "* Save the training labels to a CSV file.\n",
        "\n",
        "* Save the testing labels to a CSV file."
      ]
    },
    {
      "cell_type": "code",
      "execution_count": 47,
      "metadata": {
        "gather": {
          "logged": 1689135202484
        },
        "jupyter": {
          "outputs_hidden": false,
          "source_hidden": false
        },
        "nteract": {
          "transient": {
            "deleting": false
          }
        }
      },
      "outputs": [],
      "source": [
        "import os\n",
        "\n",
        "train_src_dir = \"./azure\"\n",
        "os.makedirs(train_src_dir, exist_ok=True)"
      ]
    },
    {
      "cell_type": "code",
      "execution_count": 48,
      "metadata": {
        "jupyter": {
          "outputs_hidden": false,
          "source_hidden": false
        },
        "nteract": {
          "transient": {
            "deleting": false
          }
        }
      },
      "outputs": [
        {
          "name": "stdout",
          "output_type": "stream",
          "text": [
            "Overwriting ./azure/pre_process.py\n"
          ]
        }
      ],
      "source": [
        "%%writefile {train_src_dir}/pre_process.py\n",
        "\n",
        "import argparse\n",
        "import pandas as pd\n",
        "from pathlib import Path\n",
        "\n",
        "from sklearn.preprocessing import StandardScaler\n",
        "from sklearn.compose import make_column_transformer\n",
        "from sklearn.model_selection import train_test_split\n",
        "\n",
        "if __name__ == \"__main__\":\n",
        "\n",
        "    \"\"\"Main function of the script.\"\"\"\n",
        "\n",
        "    # input and output arguments\n",
        "    parser = argparse.ArgumentParser()\n",
        "    parser.add_argument(\"--data\", type=str, help=\"path to input data\")\n",
        "    parser.add_argument(\"--output\", type=str, help=\"path to output data\")\n",
        "    args = parser.parse_args()\n",
        "   \n",
        "\n",
        "    ###################\n",
        "    #<prepare the data>\n",
        "    ###################\n",
        " \n",
        "    # Read the input data from the specified path\n",
        "    df = pd.read_csv(args.data)\n",
        "\n",
        "\n",
        "    ###################\n",
        "    #<Data Cleaning>\n",
        "    ###################\n",
        "\n",
        "    # Define the target column and the numeric features\n",
        "\n",
        "    target = 'stroke'\n",
        "    numeric_features = ['gender', 'age', 'hypertension', 'heart_disease', 'ever_married',\n",
        "       'work_type', 'residence_type', 'smoking_status', 'is_paralyzed',\n",
        "       'avg_glucose_level', 'bmi']\n",
        "    \n",
        "    # Separate the input features (X) and the target variable (y)\n",
        "\n",
        "    X = df.drop(columns=[target])\n",
        "    y = df[target]\n",
        "\n",
        "    # Split the data into training and testing sets\n",
        "    Xtrain, Xtest, ytrain, ytest = train_test_split(\n",
        "        X, y,\n",
        "        test_size=0.2,\n",
        "        random_state=42\n",
        "    )\n",
        "\n",
        "    # Define a column transformer to scale the numeric features\n",
        "    preprocessor = make_column_transformer(\n",
        "        (StandardScaler(), numeric_features)\n",
        "    )\n",
        "    \n",
        "    # Apply the column transformer to the training and testing sets\n",
        "    transformed_Xtrain = preprocessor.fit_transform(Xtrain)\n",
        "    transformed_Xtest = preprocessor.transform(Xtest)\n",
        "    \n",
        "    # Define the output data store path\n",
        "    output_data_store = args.output\n",
        "\n",
        "    # Define the paths for the output files\n",
        "    train_features_output_path = Path(output_data_store, \"train_features.csv\")\n",
        "    train_labels_output_path = Path(output_data_store, \"train_labels.csv\")\n",
        "    \n",
        "    test_features_output_path = Path(output_data_store, \"test_features.csv\")\n",
        "    test_labels_output_path = Path(output_data_store, \"test_labels.csv\")\n",
        "\n",
        "    # Save the transformed training features to a CSV file\n",
        "    pd.DataFrame(transformed_Xtrain).to_csv(train_features_output_path, index=False)\n",
        "    # Save the transformed testing features to a CSV file\n",
        "    pd.DataFrame(transformed_Xtest).to_csv(test_features_output_path, index=False)\n",
        "\n",
        "    # Save the training labels to a CSV file\n",
        "    ytrain.to_csv(train_labels_output_path, index=False)\n",
        "    # Save the testing labels to a CSV file\n",
        "    ytest.to_csv(test_labels_output_path, index=False)"
      ]
    },
    {
      "cell_type": "markdown",
      "metadata": {
        "nteract": {
          "transient": {
            "deleting": false
          }
        }
      },
      "source": [
        "**Step:5 Configure the command**"
      ]
    },
    {
      "cell_type": "markdown",
      "metadata": {
        "nteract": {
          "transient": {
            "deleting": false
          }
        }
      },
      "source": [
        "Here, we'll create input variables to specify the input data, split ratio and output data. The command script will:\n",
        "* Use the compute cluster to run the command.\n",
        "* Use an environment that defines software and runtime libraries needed for the processing script.\n",
        "* Configure the command line action itself - python pre_process.py in this case. The inputs/outputs are accessible in the command via the ${{ ... }} notation.\n",
        "* In this sample, we access the data from a file present in the local machine and store the processed data in the Datastores."
      ]
    },
    {
      "cell_type": "code",
      "execution_count": 49,
      "metadata": {
        "gather": {
          "logged": 1689135206959
        },
        "jupyter": {
          "outputs_hidden": false,
          "source_hidden": false
        },
        "nteract": {
          "transient": {
            "deleting": false
          }
        }
      },
      "outputs": [],
      "source": [
        "datastore_path = \"azureml://datastores/workspaceblobstore/paths/training-data/\""
      ]
    },
    {
      "cell_type": "code",
      "execution_count": 51,
      "metadata": {
        "gather": {
          "logged": 1689135213140
        },
        "jupyter": {
          "outputs_hidden": false,
          "source_hidden": false
        },
        "nteract": {
          "transient": {
            "deleting": false
          }
        }
      },
      "outputs": [],
      "source": [
        "my_job_inputs = {\n",
        "    \"input_data\": Input(type=AssetTypes.URI_FILE, \n",
        "                        path=\"azureml:brain_stroke_processed:3\")\n",
        "}\n",
        "\n",
        "my_job_outputs = {\n",
        "    \"output_datastore\": Output(type=AssetTypes.URI_FOLDER,\n",
        "                               path=datastore_path)\n",
        "}"
      ]
    },
    {
      "cell_type": "code",
      "execution_count": 52,
      "metadata": {
        "gather": {
          "logged": 1689135214952
        },
        "jupyter": {
          "outputs_hidden": false,
          "source_hidden": false
        },
        "nteract": {
          "transient": {
            "deleting": false
          }
        }
      },
      "outputs": [],
      "source": [
        "job = command(\n",
        "    code=\"./azure\",  # location of source code\n",
        "    command=\"python pre_process.py --data ${{inputs.input_data}} --output ${{outputs.output_datastore}}\",\n",
        "    inputs= my_job_inputs,\n",
        "    outputs=my_job_outputs,\n",
        "    environment=\"AzureML-sklearn-0.24-ubuntu18.04-py37-cpu@latest\",\n",
        "    compute=\"checklab\",\n",
        "    experiment_name=\"brain_stroke_preprocessing\",\n",
        "    display_name=\"brain_stroke\"\n",
        ")"
      ]
    },
    {
      "cell_type": "markdown",
      "metadata": {
        "nteract": {
          "transient": {
            "deleting": false
          }
        }
      },
      "source": [
        "**Step:6 Submit the job**"
      ]
    },
    {
      "cell_type": "code",
      "execution_count": 53,
      "metadata": {
        "gather": {
          "logged": 1689135222005
        },
        "jupyter": {
          "outputs_hidden": false,
          "source_hidden": false
        },
        "nteract": {
          "transient": {
            "deleting": false
          }
        }
      },
      "outputs": [
        {
          "name": "stderr",
          "output_type": "stream",
          "text": [
            "\rUploading azure (0.0 MBs):   0%|          | 0/4819 [00:00<?, ?it/s]\rUploading azure (0.0 MBs):  61%|██████    | 2926/4819 [00:00<00:00, 27020.94it/s]\rUploading azure (0.0 MBs): 100%|██████████| 4819/4819 [00:00<00:00, 40337.65it/s]\n",
            "\n",
            "\n"
          ]
        },
        {
          "data": {
            "text/html": [
              "<table style=\"width:100%\"><tr><th>Experiment</th><th>Name</th><th>Type</th><th>Status</th><th>Details Page</th></tr><tr><td>brain_stroke_preprocessing</td><td>zen_apricot_tg2yk7kk1d</td><td>command</td><td>Starting</td><td><a href=\"https://ml.azure.com/runs/zen_apricot_tg2yk7kk1d?wsid=/subscriptions/1c6d9ef7-1867-436f-986f-f37c475a295b/resourcegroups/testml/workspaces/azureml&amp;tid=904e9a61-6ae1-4978-87de-569b3878366c\" target=\"_blank\" rel=\"noopener\">Link to Azure Machine Learning studio</a></td></tr></table>"
            ],
            "text/plain": [
              "Command({'parameters': {}, 'init': False, 'name': 'zen_apricot_tg2yk7kk1d', 'type': 'command', 'status': 'Starting', 'log_files': None, 'description': None, 'tags': {}, 'properties': {'_azureml.ComputeTargetType': 'amlcdsi', 'ContentSnapshotId': '01e24eb2-8dec-47b7-8881-eac4983e5f20'}, 'print_as_yaml': True, 'id': '/subscriptions/1c6d9ef7-1867-436f-986f-f37c475a295b/resourceGroups/testml/providers/Microsoft.MachineLearningServices/workspaces/azureml/jobs/zen_apricot_tg2yk7kk1d', 'Resource__source_path': None, 'base_path': '/mnt/batch/tasks/shared/LS_root/mounts/clusters/checklab/code/Users/TESTXRC71JBY4S_1686047967735/mls3', 'creation_context': <azure.ai.ml.entities._system_data.SystemData object at 0x7fb90cd6cca0>, 'serialize': <msrest.serialization.Serializer object at 0x7fb90cd6cd60>, 'allowed_keys': {}, 'key_restriction': False, 'logger': <Logger attr_dict (WARNING)>, 'display_name': 'brain_stroke', 'experiment_name': 'brain_stroke_preprocessing', 'compute': 'checklab', 'services': {'Tracking': {'endpoint': 'azureml://eastus.api.azureml.ms/mlflow/v1.0/subscriptions/1c6d9ef7-1867-436f-986f-f37c475a295b/resourceGroups/testml/providers/Microsoft.MachineLearningServices/workspaces/azureml?', 'type': 'Tracking'}, 'Studio': {'endpoint': 'https://ml.azure.com/runs/zen_apricot_tg2yk7kk1d?wsid=/subscriptions/1c6d9ef7-1867-436f-986f-f37c475a295b/resourcegroups/testml/workspaces/azureml&tid=904e9a61-6ae1-4978-87de-569b3878366c', 'type': 'Studio'}}, 'comment': None, 'job_inputs': {'input_data': {'type': 'uri_file', 'path': 'brain_stroke_processed:3', 'mode': 'ro_mount'}}, 'job_outputs': {'output_datastore': {'type': 'uri_folder', 'path': 'azureml://datastores/workspaceblobstore/paths/training-data/', 'mode': 'rw_mount'}, 'default': {'type': 'uri_folder', 'path': 'azureml://datastores/workspaceartifactstore/ExperimentRun/dcid.zen_apricot_tg2yk7kk1d', 'mode': 'rw_mount'}}, 'inputs': {'input_data': <azure.ai.ml.entities._job.pipeline._io.base.NodeInput object at 0x7fb90cd6c4f0>}, 'outputs': {'output_datastore': <azure.ai.ml.entities._job.pipeline._io.base.NodeOutput object at 0x7fb90cd6d000>, 'default': <azure.ai.ml.entities._job.pipeline._io.base.NodeOutput object at 0x7fb90cd6ca00>}, 'component': CommandComponent({'intellectual_property': None, 'auto_increment_version': True, 'source': 'REMOTE.WORKSPACE.JOB', 'is_anonymous': False, 'auto_delete_setting': None, 'name': 'zen_apricot_tg2yk7kk1d', 'description': None, 'tags': {}, 'properties': {}, 'print_as_yaml': True, 'id': None, 'Resource__source_path': None, 'base_path': PosixPath('.'), 'creation_context': <azure.ai.ml.entities._system_data.SystemData object at 0x7fb90cd6cca0>, 'serialize': <msrest.serialization.Serializer object at 0x7fb90cd6cd00>, 'command': 'python pre_process.py --data ${{inputs.input_data}} --output ${{outputs.output_datastore}}', 'code': '/subscriptions/1c6d9ef7-1867-436f-986f-f37c475a295b/resourceGroups/testml/providers/Microsoft.MachineLearningServices/workspaces/azureml/codes/a7d1aa7e-4c66-48d2-8527-2dcf5733af27/versions/1', 'environment_variables': {}, 'environment': 'azureml:AzureML-sklearn-0.24-ubuntu18.04-py37-cpu@latest', 'distribution': None, 'resources': None, 'queue_settings': None, 'version': None, 'latest_version': None, 'schema': None, 'type': 'command', 'display_name': 'brain_stroke', 'is_deterministic': True, 'inputs': {'input_data': {'type': 'uri_file', 'path': '/subscriptions/1c6d9ef7-1867-436f-986f-f37c475a295b/resourceGroups/testml/providers/Microsoft.MachineLearningServices/workspaces/azureml/data/brain_stroke_processed/versions/3', 'mode': 'ro_mount'}}, 'outputs': {'output_datastore': {'type': 'uri_folder', 'path': 'azureml://datastores/workspaceblobstore/paths/training-data/', 'mode': 'rw_mount'}, 'default': {'type': 'uri_folder', 'path': 'azureml://datastores/workspaceartifactstore/ExperimentRun/dcid.zen_apricot_tg2yk7kk1d', 'mode': 'rw_mount'}}, 'yaml_str': None, 'other_parameter': {'status': 'Starting', 'parameters': {}}, 'additional_includes': [], 'CommandComponent__additional_includes_obj': None}), 'referenced_control_flow_node_instance_id': None, 'kwargs': {'services': {'Tracking': {'endpoint': 'azureml://eastus.api.azureml.ms/mlflow/v1.0/subscriptions/1c6d9ef7-1867-436f-986f-f37c475a295b/resourceGroups/testml/providers/Microsoft.MachineLearningServices/workspaces/azureml?', 'type': 'Tracking'}, 'Studio': {'endpoint': 'https://ml.azure.com/runs/zen_apricot_tg2yk7kk1d?wsid=/subscriptions/1c6d9ef7-1867-436f-986f-f37c475a295b/resourcegroups/testml/workspaces/azureml&tid=904e9a61-6ae1-4978-87de-569b3878366c', 'type': 'Studio'}}, 'status': 'Starting', 'creation_context': <azure.ai.ml.entities._system_data.SystemData object at 0x7fb90cd6cca0>}, 'instance_id': 'd2d0a05c-5849-416d-85b8-d46a97997cef', 'source': 'BUILDER', 'validate_required_input_not_provided': True, 'limits': None, 'identity': None, 'distribution': None, 'environment_variables': {}, 'environment': 'azureml:AzureML-sklearn-0.24-ubuntu18.04-py37-cpu@latest', 'resources': {'instance_count': 1, 'shm_size': '2g'}, 'queue_settings': None, 'swept': False})"
            ]
          },
          "execution_count": 53,
          "metadata": {},
          "output_type": "execute_result"
        }
      ],
      "source": [
        "ml_client.create_or_update(job)"
      ]
    },
    {
      "cell_type": "markdown",
      "metadata": {
        "nteract": {
          "transient": {
            "deleting": false
          }
        }
      },
      "source": [
        "**Note1: We can check the status of the Job by going to the \"Jobs\" on the left.**\n",
        "\n",
        "**Note2: We can check the stored output data by directing towards the datastores from the left panel.**"
      ]
    },
    {
      "cell_type": "markdown",
      "metadata": {
        "nteract": {
          "transient": {
            "deleting": false
          }
        }
      },
      "source": [
        "______________________________________________________________________________________"
      ]
    }
  ],
  "metadata": {
    "kernel_info": {
      "name": "python310-sdkv2"
    },
    "kernelspec": {
      "display_name": "Python 3.10 - SDK v2",
      "language": "python",
      "name": "python310-sdkv2"
    },
    "language_info": {
      "codemirror_mode": {
        "name": "ipython",
        "version": 3
      },
      "file_extension": ".py",
      "mimetype": "text/x-python",
      "name": "python",
      "nbconvert_exporter": "python",
      "pygments_lexer": "ipython3",
      "version": "3.10.11"
    },
    "microsoft": {
      "host": {
        "AzureML": {
          "notebookHasBeenCompleted": true
        }
      },
      "ms_spell_check": {
        "ms_spell_check_language": "en"
      }
    },
    "nteract": {
      "version": "nteract-front-end@1.0.0"
    }
  },
  "nbformat": 4,
  "nbformat_minor": 2
}
