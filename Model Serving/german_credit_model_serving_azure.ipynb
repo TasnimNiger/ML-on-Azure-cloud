{
  "cells": [
    {
      "cell_type": "markdown",
      "metadata": {
        "nteract": {
          "transient": {
            "deleting": false
          }
        }
      },
      "source": [
        "# Model Serving"
      ]
    },
    {
      "cell_type": "markdown",
      "metadata": {
        "nteract": {
          "transient": {
            "deleting": false
          }
        }
      },
      "source": [
        "*This Python notebook covers the usage of endpoints for obtaining inferences and also includes guidance on utilizing canary deployment techniques*\n",
        "\n",
        "*In the context of model deployment, canary deployment is a highly recommended method to upgrade an existing baseline model to a newer version. This involves directing a controlled portion of live traffic to the upgraded endpoint and performing A/B testing to determine if the new version performs better than the baseline on live data. The canary deployment process typically begins by diverting a small percentage of live traffic, ranging from 1% to 5%, to the upgraded version. If there are no errors, traffic is gradually increased, thus minimizing the risk of potential issues during the transition. This approach ensures a smooth and cautious transition to the new version while maintaining a high degree of safety.*"
      ]
    },
    {
      "cell_type": "markdown",
      "metadata": {
        "nteract": {
          "transient": {
            "deleting": false
          }
        }
      },
      "source": [
        "*The German credit dataset is a dataset commonly used in credit risk analysis*\n",
        "\n",
        "* Age: the age of the applicant in years\n",
        "* Credit amount: the amount of credit applied\n",
        "* Duration: the duration of the credit in months\n",
        "* Risk: the risk associated with the credit, with two possible values: \"0\" or \"1\" \n",
        "* Sex: the gender of the applicant, with two possible values: \"male\" or \"female\"\n",
        "* Job: the type of job of the applicant\n",
        "* Housing: the type of housing of the applicant, with three possible values: \"rent\", \"own\", or \"free\" \n",
        "* Purpose: the purpose of the credit"
      ]
    },
    {
      "cell_type": "markdown",
      "metadata": {
        "nteract": {
          "transient": {
            "deleting": false
          }
        }
      },
      "source": [
        "### Connect to the workspace\n",
        "\n",
        "First, we'll need to connect to your Azure Machine Learning workspace. The Azure Machine Learning workspace is the top-level resource for the service. It provides you with a centralized place to work with all the artifacts you create when you use Azure Machine Learning.\n",
        "\n",
        "We're using DefaultAzureCredential to get access to the workspace. This credential should be capable of handling most Azure SDK authentication scenarios."
      ]
    },
    {
      "cell_type": "code",
      "execution_count": 1,
      "metadata": {
        "gather": {
          "logged": 1721732917378
        },
        "jupyter": {
          "outputs_hidden": false,
          "source_hidden": false
        },
        "nteract": {
          "transient": {
            "deleting": false
          }
        }
      },
      "outputs": [],
      "source": [
        "# Handle to the workspace\n",
        "from azure.ai.ml import MLClient\n",
        "\n",
        "# Authentication package\n",
        "from azure.identity import DefaultAzureCredential\n",
        "\n",
        "credential = DefaultAzureCredential()"
      ]
    },
    {
      "cell_type": "markdown",
      "metadata": {
        "nteract": {
          "transient": {
            "deleting": false
          }
        }
      },
      "source": [
        "Next, get a handle to the workspace by providing your Subscription ID, Resource Group name, and workspace name. To find these parameters:\n",
        "\n",
        "* Look in the upper-right corner of the Azure Machine Learning studio toolbar for your workspace name.\n",
        "* Select your workspace name to show your Resource Group and Subscription ID.\n",
        "* Copy the values for Resource Group and Subscription ID into the code."
      ]
    },
    {
      "cell_type": "code",
      "execution_count": 2,
      "metadata": {
        "gather": {
          "logged": 1721732920815
        },
        "jupyter": {
          "outputs_hidden": false,
          "source_hidden": false
        },
        "nteract": {
          "transient": {
            "deleting": false
          }
        }
      },
      "outputs": [],
      "source": [
        "# Get a handle to the workspace\n",
        "ml_client = MLClient(\n",
        "    credential=credential,\n",
        "    subscription_id=\"0d86e202-dfd4-4954-bdc4-ba82f5e270bd\", #Provide your subscription ID as shown in the above screenshot\n",
        "    resource_group_name=\"GLMLPOs\", #Provide your Resource Group as shown in the above screenshot\n",
        "    workspace_name=\"azureml\",\n",
        ")"
      ]
    },
    {
      "cell_type": "markdown",
      "metadata": {
        "nteract": {
          "transient": {
            "deleting": false
          }
        }
      },
      "source": [
        "### Create a compute resource to run the job\n",
        "\n",
        "Azure Machine Learning needs a compute resource to run a job. This resource can be single or multi-node machines with Linux or Windows OS, or a specific compute fabric like Spark.\n",
        "\n",
        "We only need a basic cluster for this task; thus, we'll pick a Standard_D2_v3 model with 2 CPU cores and 7 GB RAM to create an Azure Machine Learning compute."
      ]
    },
    {
      "cell_type": "code",
      "execution_count": 3,
      "metadata": {
        "gather": {
          "logged": 1721732999586
        },
        "jupyter": {
          "outputs_hidden": false,
          "source_hidden": false
        },
        "nteract": {
          "transient": {
            "deleting": false
          }
        }
      },
      "outputs": [
        {
          "name": "stdout",
          "output_type": "stream",
          "text": [
            "Creating a new cpu compute target...\n",
            "AMLCompute with name cpu-cluster-model-serving is created, the compute size is STANDARD_D2_V3\n"
          ]
        }
      ],
      "source": [
        "from azure.ai.ml.entities import AmlCompute\n",
        "\n",
        "# Name assigned to the compute cluster\n",
        "cpu_compute_target = \"cpu-cluster-model-serving\"\n",
        "\n",
        "try:\n",
        "    # let's see if the compute target already exists\n",
        "    cpu_cluster = ml_client.compute.get(cpu_compute_target)\n",
        "    print(\n",
        "        f\"You already have a cluster named {cpu_compute_target}, we'll reuse it as is.\"\n",
        "    )\n",
        "\n",
        "except Exception:\n",
        "    print(\"Creating a new cpu compute target...\")\n",
        "\n",
        "    # Let's create the Azure ML compute object with the intended parameters\n",
        "    cpu_cluster = AmlCompute(\n",
        "        name=cpu_compute_target,\n",
        "        # Azure ML Compute is the on-demand VM service\n",
        "        type=\"amlcompute\",\n",
        "        # VM Family\n",
        "        size=\"STANDARD_D2_V3\",\n",
        "        # Minimum running nodes when there is no job running\n",
        "        min_instances=0,\n",
        "        # Nodes in cluster\n",
        "        max_instances=1,\n",
        "        # How many seconds will the node running after the job termination\n",
        "        idle_time_before_scale_down=180,\n",
        "        # Dedicated or LowPriority. The latter is cheaper but there is a chance of job termination\n",
        "        tier=\"Dedicated\",\n",
        "    )\n",
        "\n",
        "    # Now, we pass the object to MLClient's create_or_update method\n",
        "    cpu_cluster = ml_client.compute.begin_create_or_update(cpu_cluster).result()\n",
        "\n",
        "print(\n",
        "    f\"AMLCompute with name {cpu_cluster.name} is created, the compute size is {cpu_cluster.size}\"\n",
        ")"
      ]
    },
    {
      "cell_type": "markdown",
      "metadata": {
        "nteract": {
          "transient": {
            "deleting": false
          }
        }
      },
      "source": [
        "### Create a job environment\n",
        "\n",
        "To run an Azure Machine Learning job, you'll need an environment. It encapsulates the dependencies (such as software runtime and libraries) needed to run our machine learning training script on our compute resource. This environment is similar to a Python environment on our local machine.\n",
        "\n",
        "We'll create a custom environment for our jobs, using a Conda YAML file."
      ]
    },
    {
      "cell_type": "markdown",
      "metadata": {
        "nteract": {
          "transient": {
            "deleting": false
          }
        }
      },
      "source": [
        "#### Create a custom environment\n",
        "\n",
        "To create your custom environment, we'll define your Conda dependencies in a YAML file. First, create a directory for storing the file. We've named the directory env."
      ]
    },
    {
      "cell_type": "code",
      "execution_count": 4,
      "metadata": {
        "gather": {
          "logged": 1721733056855
        },
        "jupyter": {
          "outputs_hidden": false,
          "source_hidden": false
        },
        "nteract": {
          "transient": {
            "deleting": false
          }
        }
      },
      "outputs": [],
      "source": [
        "import os\n",
        "\n",
        "## Set the name of the directory we want to create\n",
        "dependencies_dir = \"./env\"\n",
        "\n",
        "# # The os.makedirs() function creates a directory\n",
        "# exist_ok=True means that the function will not raise an exception if the directory already exists\n",
        "os.makedirs(dependencies_dir, exist_ok=True)"
      ]
    },
    {
      "cell_type": "markdown",
      "metadata": {
        "nteract": {
          "transient": {
            "deleting": false
          }
        }
      },
      "source": [
        "Then, create the file in the dependencies directory. In this example, we've named the file conda.yml."
      ]
    },
    {
      "cell_type": "code",
      "execution_count": 5,
      "metadata": {
        "jupyter": {
          "outputs_hidden": false,
          "source_hidden": false
        },
        "nteract": {
          "transient": {
            "deleting": false
          }
        }
      },
      "outputs": [
        {
          "name": "stdout",
          "output_type": "stream",
          "text": [
            "Overwriting ./env/conda.yaml\n"
          ]
        }
      ],
      "source": [
        "%%writefile {dependencies_dir}/conda.yaml\n",
        "name: sklearn-env\n",
        "channels:\n",
        "  - conda-forge\n",
        "dependencies:\n",
        "  - python=3.8\n",
        "  - pip=21.2.4\n",
        "  - scikit-learn=0.23.2\n",
        "  - scipy=1.7.1\n",
        "  - pip:  \n",
        "    - mlflow==2.3\n",
        "    - azureml-mlflow==1.51.0\n",
        "    - azureml-inference-server-http\n",
        "    - azureml-core==1.49.0\n",
        "    - cloudpickle==1.6.0"
      ]
    },
    {
      "cell_type": "markdown",
      "metadata": {
        "nteract": {
          "transient": {
            "deleting": false
          }
        }
      },
      "source": [
        "The specification contains some usual packages (such as numpy and pip) that you'll use in our job.\n",
        "\n",
        "Next, use the YAML file to create and register this custom environment in our workspace. The environment will be packaged into a Docker container at runtime."
      ]
    },
    {
      "cell_type": "code",
      "execution_count": 6,
      "metadata": {
        "gather": {
          "logged": 1721733136107
        },
        "jupyter": {
          "outputs_hidden": false,
          "source_hidden": false
        },
        "nteract": {
          "transient": {
            "deleting": false
          }
        }
      },
      "outputs": [
        {
          "name": "stdout",
          "output_type": "stream",
          "text": [
            "Environment with name machine_learning_model_serving is registered to workspace, the environment version is 6\n"
          ]
        }
      ],
      "source": [
        "# Import the Environment class from the azure.ai.ml.entities module\n",
        "from azure.ai.ml.entities import Environment\n",
        "\n",
        "\n",
        "# Set the name of the custom environment we want to create\n",
        "custom_env_name = \"machine_learning_model_serving\"\n",
        "\n",
        "# Create an Environment object with the specified properties\n",
        "job_env = Environment(\n",
        "    name=custom_env_name,\n",
        "    description=\"Custom environment for machine learning task\",\n",
        "    conda_file=os.path.join(dependencies_dir, \"conda.yaml\"),\n",
        "    image=\"mcr.microsoft.com/azureml/openmpi4.1.0-ubuntu20.04:latest\",\n",
        ")\n",
        "job_env = ml_client.environments.create_or_update(job_env)\n",
        "\n",
        "# Print out some information about the registered environment\n",
        "print(\n",
        "    f\"Environment with name {job_env.name} is registered to workspace, the environment version is {job_env.version}\"\n",
        ")"
      ]
    },
    {
      "cell_type": "markdown",
      "metadata": {
        "nteract": {
          "transient": {
            "deleting": false
          }
        }
      },
      "source": [
        "### Configure and submit your training job"
      ]
    },
    {
      "cell_type": "code",
      "execution_count": 7,
      "metadata": {
        "gather": {
          "logged": 1721733155368
        },
        "jupyter": {
          "outputs_hidden": false,
          "source_hidden": false
        },
        "nteract": {
          "transient": {
            "deleting": false
          }
        }
      },
      "outputs": [],
      "source": [
        "# To use the training script, first create a directory where you will store the file.\n",
        "import os\n",
        "\n",
        "src_dir = \"./src\"\n",
        "os.makedirs(src_dir, exist_ok=True)"
      ]
    },
    {
      "cell_type": "markdown",
      "metadata": {
        "nteract": {
          "transient": {
            "deleting": false
          }
        }
      },
      "source": [
        "**Next, create the script file in the source directory. Description of the script is as follows:**\n",
        "\n",
        "* The scripts defines a command-line interface for training a Decision Tree model and gradient boosting model on a given input dataset, logs the results to MLflow, saves the trained model as an MLflow artifact, and registers it with the model registry.\n",
        "\n",
        "\n",
        "* The script first imports necessary libraries for building and evaluating the Decision Tree model, as well as libraries for logging the model and its parameters and metrics to MLflow.\n",
        "\n",
        "\n",
        "* Next, the script defines a main() function that sets up the command-line interface using the argparse library. The function reads in the input dataset from a specified path, sets the model parameters based on user input, and trains the model using the training data. The script then evaluates the trained model on a holdout test set and logs the resulting accuracy and confusion matrix to MLflow.\n",
        "\n",
        "\n",
        "* Finally, the script registers the trained model with the MLflow model registry by logging it as an MLflow artifact and then saving it to disk using mlflow.sklearn.log_model() and mlflow.sklearn.save_model(), respectively. The registered model can be deployed and served using the MLflow model serving capabilities."
      ]
    },
    {
      "cell_type": "markdown",
      "metadata": {
        "nteract": {
          "transient": {
            "deleting": false
          }
        }
      },
      "source": [
        "#### First Model : Gradient Boosting Classifier"
      ]
    },
    {
      "cell_type": "code",
      "execution_count": 8,
      "metadata": {
        "jupyter": {
          "outputs_hidden": false,
          "source_hidden": false
        },
        "nteract": {
          "transient": {
            "deleting": false
          }
        }
      },
      "outputs": [
        {
          "name": "stdout",
          "output_type": "stream",
          "text": [
            "Overwriting ./src/score-gb.py\n"
          ]
        }
      ],
      "source": [
        "%%writefile {src_dir}/score-gb.py\n",
        "\n",
        "# importing necessary libraries\n",
        "import argparse\n",
        "import os\n",
        "import numpy as np\n",
        "import pandas as pd\n",
        "\n",
        "from sklearn import datasets\n",
        "from sklearn.metrics import confusion_matrix\n",
        "from sklearn.model_selection import train_test_split\n",
        "from sklearn.ensemble import GradientBoostingClassifier\n",
        "from sklearn.preprocessing import StandardScaler, OneHotEncoder\n",
        "from sklearn.compose import ColumnTransformer\n",
        "\n",
        "import mlflow\n",
        "import mlflow.sklearn\n",
        "\n",
        "# create an argument parser to take input arguments from command line\n",
        "def main():\n",
        "    parser = argparse.ArgumentParser()\n",
        "\n",
        "    parser.add_argument(\"--data\", type=str, help=\"path to input data\")\n",
        "    parser.add_argument(\"--test_train_ratio\", type=float, required=False, default=0.25)\n",
        "    parser.add_argument(\"--registered_model_name\", type=str, help=\"model name\", default=\"default_model\")\n",
        "\n",
        "    args = parser.parse_args()\n",
        "\n",
        "    # Start Logging\n",
        "    mlflow.start_run()\n",
        "\n",
        "    # enable autologging\n",
        "    mlflow.sklearn.autolog()\n",
        "\n",
        "    # print input arguments\n",
        "    print(\" \".join(f\"{k}={v}\" for k, v in vars(args).items()))\n",
        "\n",
        "    # load input data\n",
        "    print(\"input data:\", args.data)\n",
        "    df = pd.read_csv(args.data)\n",
        "\n",
        "    # split the data into training and testing sets\n",
        "    train_df, test_df = train_test_split(\n",
        "        df,\n",
        "        test_size=args.test_train_ratio,\n",
        "    )\n",
        "\n",
        "    # Define the preprocessing steps for the numerical and categorical data\n",
        "    numeric_features = ['Age', 'Credit amount', 'Duration']\n",
        "    numeric_transformer = StandardScaler()\n",
        "\n",
        "    categorical_features = ['Sex', 'JOB', 'HOUSING', 'Purpose']\n",
        "    categorical_transformer = OneHotEncoder(handle_unknown='ignore')\n",
        "\n",
        "    # Combine the preprocessing steps into a single transformer\n",
        "    preprocessor = ColumnTransformer(\n",
        "        transformers=[\n",
        "            ('num', numeric_transformer, numeric_features),\n",
        "            ('cat', categorical_transformer, categorical_features)])\n",
        "\n",
        "    # Fit the transformer on the training data and apply it to both the training and testing data\n",
        "    X_train = preprocessor.fit_transform(train_df)\n",
        "    X_test = preprocessor.transform(test_df)\n",
        "\n",
        "    # Extract the label column\n",
        "    y_train = train_df.pop(\"risk\")\n",
        "    y_test = test_df.pop(\"risk\")\n",
        "\n",
        "    # initialize and train a Gradient Boosting classifier\n",
        "    gb_model = GradientBoostingClassifier()\n",
        "    gb_model = gb_model.fit(X_train, y_train)\n",
        "    gb_predictions = gb_model.predict(X_test)\n",
        "\n",
        "    # compute and log model accuracy\n",
        "    accuracy = gb_model.score(X_test, y_test)\n",
        "    print('Accuracy of GradientBoosting classifier on test set: {:.2f}'.format(accuracy))\n",
        "    mlflow.log_metric('Accuracy', float(accuracy))\n",
        "\n",
        "    # creating a confusion matrix\n",
        "    cm = confusion_matrix(y_test, gb_predictions)\n",
        "    print(cm)\n",
        "\n",
        "    # set the name for the registered model\n",
        "    registered_model_name =\"GradientBoosting_GC\"\n",
        "\n",
        "    ##########################\n",
        "    #<save and register model>\n",
        "    ##########################\n",
        "\n",
        "    # Registering the model to the workspace\n",
        "    print(\"Registering the model via MLFlow\")\n",
        "    mlflow.sklearn.log_model(\n",
        "        sk_model=gb_model,\n",
        "        registered_model_name=registered_model_name,\n",
        "        artifact_path=registered_model_name\n",
        "    )\n",
        "\n",
        "    # # Saving the model to a file\n",
        "    print(\"Saving the model via MLFlow\")\n",
        "    mlflow.sklearn.save_model(\n",
        "        sk_model=gb_model,\n",
        "        path=os.path.join(registered_model_name, \"trained_model\"),\n",
        "    )\n",
        "    ###########################\n",
        "    #</save and register model>\n",
        "    ###########################\n",
        "\n",
        "    # end MLflow tracking\n",
        "    mlflow.end_run()\n",
        "\n",
        "if __name__ == '__main__':\n",
        "    main()\n"
      ]
    },
    {
      "cell_type": "markdown",
      "metadata": {
        "nteract": {
          "transient": {
            "deleting": false
          }
        }
      },
      "source": [
        "#### Configure the command\n",
        "\n",
        "We'll use the general purpose command to run the training script and perform your desired tasks. Create a Command object to specify the configuration details of your training job."
      ]
    },
    {
      "cell_type": "code",
      "execution_count": 11,
      "metadata": {
        "gather": {
          "logged": 1721733669477
        },
        "jupyter": {
          "outputs_hidden": false,
          "source_hidden": false
        },
        "nteract": {
          "transient": {
            "deleting": false
          }
        }
      },
      "outputs": [],
      "source": [
        "# Import the necessary modules\n",
        "from azure.ai.ml import command\n",
        "from azure.ai.ml import Input\n",
        "\n",
        "# Define a new AML job using the `command` function\n",
        "job = command(\n",
        "    inputs=dict(\n",
        "        data=Input(\n",
        "            type=\"uri_file\",\n",
        "            path=\"./data/german_credit_azure.csv\", # The path to the input data file\n",
        "        ),\n",
        "        test_train_ratio=0.2, # The ratio of the data to be used for testing\n",
        "    ),\n",
        "    # Specify the directory containing the code to be run in the job\n",
        "    code=\"./src/\",\n",
        "    # Specify the command to be run in the job, including the input data and parameters as command line arguments\n",
        "    command=\"python score-gb.py --data ${{inputs.data}} --test_train_ratio ${{inputs.test_train_ratio}}\",\n",
        "    # Specify the environment to be used for the job\n",
        "    environment=\"AzureML-sklearn-0.24-ubuntu18.04-py37-cpu@latest\",\n",
        "    # Specify the compute target to be used for the job\n",
        "    compute=\"cpu-cluster-model-serving\",\n",
        "    # Specify the name of the experiment for the job\n",
        "    experiment_name=\"german_credit_training_v6\",\n",
        "     # Specify the display name for the job\n",
        "    display_name=\"gb_prediction_v6\",\n",
        ")\n"
      ]
    },
    {
      "cell_type": "code",
      "execution_count": 10,
      "metadata": {
        "gather": {
          "logged": 1721733430823
        },
        "jupyter": {
          "outputs_hidden": false,
          "source_hidden": false
        },
        "nteract": {
          "transient": {
            "deleting": false
          }
        }
      },
      "outputs": [
        {
          "name": "stderr",
          "output_type": "stream",
          "text": [
            "Class AutoDeleteSettingSchema: This is an experimental class, and may change at any time. Please see https://aka.ms/azuremlexperimental for more information.\n",
            "Class AutoDeleteConditionSchema: This is an experimental class, and may change at any time. Please see https://aka.ms/azuremlexperimental for more information.\n",
            "Class BaseAutoDeleteSettingSchema: This is an experimental class, and may change at any time. Please see https://aka.ms/azuremlexperimental for more information.\n",
            "Class IntellectualPropertySchema: This is an experimental class, and may change at any time. Please see https://aka.ms/azuremlexperimental for more information.\n",
            "Class ProtectionLevelSchema: This is an experimental class, and may change at any time. Please see https://aka.ms/azuremlexperimental for more information.\n",
            "Class BaseIntellectualPropertySchema: This is an experimental class, and may change at any time. Please see https://aka.ms/azuremlexperimental for more information.\n"
          ]
        },
        {
          "data": {
            "text/html": [
              "<table style=\"width:100%\"><tr><th>Experiment</th><th>Name</th><th>Type</th><th>Status</th><th>Details Page</th></tr><tr><td>german_credit_training_v6</td><td>maroon_pocket_40vfxj5p04</td><td>command</td><td>Starting</td><td><a href=\"https://ml.azure.com/runs/maroon_pocket_40vfxj5p04?wsid=/subscriptions/0d86e202-dfd4-4954-bdc4-ba82f5e270bd/resourcegroups/GLMLPOs/workspaces/azureml&amp;tid=904e9a61-6ae1-4978-87de-569b3878366c\" target=\"_blank\" rel=\"noopener\">Link to Azure Machine Learning studio</a></td></tr></table>"
            ],
            "text/plain": [
              "Command({'parameters': {}, 'init': False, 'name': 'maroon_pocket_40vfxj5p04', 'type': 'command', 'status': 'Starting', 'log_files': None, 'description': None, 'tags': {}, 'properties': {'_azureml.ComputeTargetType': 'amlctrain', '_azureml.ClusterName': 'cpu-cluster-model-serving', 'ContentSnapshotId': '4558c21f-7746-41fd-888d-ef9f335e2e7d'}, 'print_as_yaml': False, 'id': '/subscriptions/0d86e202-dfd4-4954-bdc4-ba82f5e270bd/resourceGroups/GLMLPOs/providers/Microsoft.MachineLearningServices/workspaces/azureml/jobs/maroon_pocket_40vfxj5p04', 'Resource__source_path': '', 'base_path': '/mnt/batch/tasks/shared/LS_root/mounts/clusters/comw6/code/Users/Tasnim_1717885446059', 'creation_context': <azure.ai.ml.entities._system_data.SystemData object at 0x7f6e025c4d90>, 'serialize': <msrest.serialization.Serializer object at 0x7f6e025c4c70>, 'allowed_keys': {}, 'key_restriction': False, 'logger': <TraceLogger attr_dict (WARNING)>, 'display_name': 'gb_prediction_v6', 'experiment_name': 'german_credit_training_v6', 'compute': 'cpu-cluster-model-serving', 'services': {'Tracking': {'endpoint': 'azureml://eastus.api.azureml.ms/mlflow/v1.0/subscriptions/0d86e202-dfd4-4954-bdc4-ba82f5e270bd/resourceGroups/GLMLPOs/providers/Microsoft.MachineLearningServices/workspaces/azureml?', 'type': 'Tracking'}, 'Studio': {'endpoint': 'https://ml.azure.com/runs/maroon_pocket_40vfxj5p04?wsid=/subscriptions/0d86e202-dfd4-4954-bdc4-ba82f5e270bd/resourcegroups/GLMLPOs/workspaces/azureml&tid=904e9a61-6ae1-4978-87de-569b3878366c', 'type': 'Studio'}}, 'comment': None, 'job_inputs': {'data': {'type': 'uri_file', 'path': 'azureml://datastores/workspaceblobstore/paths/LocalUpload/e4f181ec257972f5104e26cc40eab0c1/german_credit_azure.csv', 'mode': 'ro_mount'}, 'test_train_ratio': '0.2'}, 'job_outputs': {'default': {'type': 'uri_folder', 'path': 'azureml://datastores/workspaceartifactstore/ExperimentRun/dcid.maroon_pocket_40vfxj5p04', 'mode': 'rw_mount'}}, 'inputs': {'data': <azure.ai.ml.entities._job.pipeline._io.base.NodeInput object at 0x7f6e025c4cd0>, 'test_train_ratio': <azure.ai.ml.entities._job.pipeline._io.base.NodeInput object at 0x7f6e025c4c40>}, 'outputs': {'default': <azure.ai.ml.entities._job.pipeline._io.base.NodeOutput object at 0x7f6e025c4c10>}, 'component': CommandComponent({'latest_version': None, 'intellectual_property': None, 'auto_increment_version': True, 'source': 'REMOTE.WORKSPACE.JOB', 'is_anonymous': False, 'auto_delete_setting': None, 'name': 'maroon_pocket_40vfxj5p04', 'description': None, 'tags': {}, 'properties': {}, 'print_as_yaml': False, 'id': None, 'Resource__source_path': None, 'base_path': '/mnt/batch/tasks/shared/LS_root/mounts/clusters/comw6/code/Users/Tasnim_1717885446059', 'creation_context': <azure.ai.ml.entities._system_data.SystemData object at 0x7f6e025c4d90>, 'serialize': <msrest.serialization.Serializer object at 0x7f6e025c4820>, 'command': 'python score-gb.py --data ${{inputs.data}} --test_train_ratio ${{inputs.test_train_ratio}}', 'code': '/subscriptions/0d86e202-dfd4-4954-bdc4-ba82f5e270bd/resourceGroups/GLMLPOs/providers/Microsoft.MachineLearningServices/workspaces/azureml/codes/f5492a24-a1cb-463b-b2f1-267fba9f67a7/versions/1', 'environment_variables': {}, 'environment': 'azureml:AzureML-sklearn-0.24-ubuntu18.04-py37-cpu@latest', 'distribution': None, 'resources': None, 'queue_settings': None, 'version': None, 'schema': None, 'type': 'command', 'display_name': 'gb_prediction_v6', 'is_deterministic': True, 'inputs': {'data': {'type': 'uri_file', 'path': 'azureml://datastores/workspaceblobstore/paths/LocalUpload/e4f181ec257972f5104e26cc40eab0c1/german_credit_azure.csv', 'mode': 'ro_mount'}, 'test_train_ratio': {'type': 'string', 'default': '0.2'}}, 'outputs': {'default': {'type': 'uri_folder', 'path': 'azureml://datastores/workspaceartifactstore/ExperimentRun/dcid.maroon_pocket_40vfxj5p04', 'mode': 'rw_mount'}}, 'yaml_str': None, 'other_parameter': {'status': 'Starting', 'parameters': {}}, 'additional_includes': []}), 'referenced_control_flow_node_instance_id': None, 'kwargs': {'services': {'Tracking': {'endpoint': 'azureml://eastus.api.azureml.ms/mlflow/v1.0/subscriptions/0d86e202-dfd4-4954-bdc4-ba82f5e270bd/resourceGroups/GLMLPOs/providers/Microsoft.MachineLearningServices/workspaces/azureml?', 'type': 'Tracking'}, 'Studio': {'endpoint': 'https://ml.azure.com/runs/maroon_pocket_40vfxj5p04?wsid=/subscriptions/0d86e202-dfd4-4954-bdc4-ba82f5e270bd/resourcegroups/GLMLPOs/workspaces/azureml&tid=904e9a61-6ae1-4978-87de-569b3878366c', 'type': 'Studio'}}, 'status': 'Starting', 'creation_context': <azure.ai.ml.entities._system_data.SystemData object at 0x7f6e025c4d90>}, 'instance_id': '5a8dbeac-d57e-4252-9aee-10cca3f6969a', 'source': 'BUILDER', 'validate_required_input_not_provided': True, 'limits': None, 'identity': None, 'distribution': None, 'environment_variables': {}, 'environment': 'azureml:AzureML-sklearn-0.24-ubuntu18.04-py37-cpu@latest', 'resources': {'instance_count': 1, 'shm_size': '2g'}, 'queue_settings': None, 'swept': False})"
            ]
          },
          "execution_count": 10,
          "metadata": {},
          "output_type": "execute_result"
        }
      ],
      "source": [
        "# ml_client.create_or_update will create a new job if it does not exist or update the existing job if it does\n",
        "ml_client.create_or_update(job)"
      ]
    },
    {
      "cell_type": "markdown",
      "metadata": {
        "nteract": {
          "transient": {
            "deleting": false
          }
        }
      },
      "source": [
        "#### Second Model : Decision Tree Classifier"
      ]
    },
    {
      "cell_type": "code",
      "execution_count": 12,
      "metadata": {
        "jupyter": {
          "outputs_hidden": false,
          "source_hidden": false
        },
        "nteract": {
          "transient": {
            "deleting": false
          }
        }
      },
      "outputs": [
        {
          "name": "stdout",
          "output_type": "stream",
          "text": [
            "Overwriting ./src/score-dt.py\n"
          ]
        }
      ],
      "source": [
        "%%writefile {src_dir}/score-dt.py\n",
        "\n",
        "# importing necessary libraries\n",
        "import argparse\n",
        "import os\n",
        "import numpy as np\n",
        "import pandas as pd\n",
        "\n",
        "from sklearn import datasets\n",
        "from sklearn.metrics import confusion_matrix\n",
        "from sklearn.model_selection import train_test_split\n",
        "from sklearn.tree import DecisionTreeClassifier\n",
        "from sklearn.preprocessing import StandardScaler, OneHotEncoder\n",
        "from sklearn.compose import ColumnTransformer\n",
        "\n",
        "import mlflow\n",
        "import mlflow.sklearn\n",
        "\n",
        "# create an argument parser to take input arguments from command line\n",
        "def main():\n",
        "    parser = argparse.ArgumentParser()\n",
        "\n",
        "    parser.add_argument(\"--data\", type=str, help=\"path to input data\")\n",
        "    parser.add_argument(\"--test_train_ratio\", type=float, required=False, default=0.25)\n",
        "    parser.add_argument(\"--registered_model_name\", type=str, help=\"model name\")\n",
        "\n",
        "    args = parser.parse_args()\n",
        "\n",
        "    # Start Logging\n",
        "    mlflow.start_run()\n",
        "\n",
        "    # enable autologging\n",
        "    mlflow.sklearn.autolog()\n",
        "\n",
        "    # print input arguments\n",
        "    print(\" \".join(f\"{k}={v}\" for k, v in vars(args).items()))\n",
        "\n",
        "     # load input data\n",
        "    print(\"input data:\", args.data)\n",
        "    df = pd.read_csv(args.data)\n",
        "\n",
        "    # split the data into training and testing sets\n",
        "    train_df, test_df = train_test_split(\n",
        "        df,\n",
        "        test_size=args.test_train_ratio,\n",
        "    )\n",
        "\n",
        "    # Define the preprocessing steps for the numerical and categorical data\n",
        "    numeric_features = ['Age', 'Credit amount', 'Duration']\n",
        "    numeric_transformer = StandardScaler()\n",
        "\n",
        "    categorical_features = ['Sex', 'JOB', 'HOUSING', 'Purpose']\n",
        "    categorical_transformer = OneHotEncoder(handle_unknown='ignore')\n",
        "\n",
        "    # Combine the preprocessing steps into a single transformer\n",
        "    preprocessor = ColumnTransformer(\n",
        "        transformers=[\n",
        "            ('num', numeric_transformer, numeric_features),\n",
        "            ('cat', categorical_transformer, categorical_features)])\n",
        "\n",
        "    # Fit the transformer on the training data and apply it to both the training and testing data\n",
        "    X_train = preprocessor.fit_transform(train_df)\n",
        "    X_test = preprocessor.transform(test_df)\n",
        "\n",
        "    # Extract the label column\n",
        "    y_train = train_df.pop(\"risk\")\n",
        "    y_test = test_df.pop(\"risk\")\n",
        "\n",
        "    # initialize and train a decision tree classifier\n",
        "    tree_model = DecisionTreeClassifier()\n",
        "    tree_model = tree_model.fit(X_train, y_train)\n",
        "    tree_predictions = tree_model.predict(X_test)\n",
        "\n",
        "    # compute and log model accuracy\n",
        "    accuracy = tree_model.score(X_test, y_test)\n",
        "    print('Accuracy of Decision Tree classifier on test set: {:.2f}'.format(accuracy))\n",
        "    mlflow.log_metric('Accuracy', float(accuracy))\n",
        "\n",
        "    # creating a confusion matrix\n",
        "    cm = confusion_matrix(y_test, tree_predictions)\n",
        "    print(cm)\n",
        "\n",
        "    # set the name for the registered model\n",
        "    registered_model_name=\"Decisiontree_GC\"\n",
        "\n",
        "    ##########################\n",
        "    #<save and register model>\n",
        "    ##########################\n",
        "\n",
        "    # Registering the model to the workspace\n",
        "    print(\"Registering the model via MLFlow\")\n",
        "    mlflow.sklearn.log_model(\n",
        "        sk_model=tree_model,\n",
        "        registered_model_name=registered_model_name,\n",
        "        artifact_path=registered_model_name\n",
        "    )\n",
        "\n",
        "    # # Saving the model to a file\n",
        "    print(\"Saving the model via MLFlow\")\n",
        "    mlflow.sklearn.save_model(\n",
        "        sk_model=tree_model,\n",
        "        path=os.path.join(registered_model_name, \"trained_model\"),\n",
        "    )\n",
        "    ###########################\n",
        "    #</save and register model>\n",
        "    ###########################\n",
        "   \n",
        "    # end MLflow tracking\n",
        "    mlflow.end_run()\n",
        "\n",
        "if __name__ == '__main__':\n",
        "    main()\n",
        "\n"
      ]
    },
    {
      "cell_type": "markdown",
      "metadata": {
        "nteract": {
          "transient": {
            "deleting": false
          }
        }
      },
      "source": [
        "#### Configure the command\n",
        "\n",
        "We'll use the general purpose command to run the training script and perform your desired tasks. Create a Command object to specify the configuration details of your training job."
      ]
    },
    {
      "cell_type": "code",
      "execution_count": 13,
      "metadata": {
        "gather": {
          "logged": 1721734143295
        },
        "jupyter": {
          "outputs_hidden": false,
          "source_hidden": false
        },
        "nteract": {
          "transient": {
            "deleting": false
          }
        }
      },
      "outputs": [],
      "source": [
        "# Import the necessary modules\n",
        "from azure.ai.ml import command\n",
        "from azure.ai.ml import Input\n",
        "\n",
        "# Define a new AML job using the `command` function\n",
        "job = command(\n",
        "    inputs=dict(\n",
        "        data=Input(\n",
        "            type=\"uri_file\",\n",
        "            path=\"./data/german_credit_azure.csv\", # The path to the input data file\n",
        "        ),\n",
        "        test_train_ratio=0.2, # The ratio of the data to be used for testing\n",
        "    ),\n",
        "    # Specify the directory containing the code to be run in the job\n",
        "    code=\"./src/\",\n",
        "    # Specify the command to be run in the job, including the input data and parameters as command line arguments\n",
        "    command=\"python score-dt.py --data ${{inputs.data}} --test_train_ratio ${{inputs.test_train_ratio}}\",\n",
        "    # Specify the environment to be used for the job\n",
        "    environment=\"AzureML-sklearn-0.24-ubuntu18.04-py37-cpu@latest\",\n",
        "    # Specify the compute target to be used for the job\n",
        "    compute=\"cpu-cluster-model-serving\",\n",
        "    # Specify the name of the experiment for the job\n",
        "    experiment_name=\"german_credit_training_v6\",\n",
        "     # Specify the display name for the job\n",
        "    display_name=\"dt_prediction_v6\",\n",
        ")"
      ]
    },
    {
      "cell_type": "code",
      "execution_count": 14,
      "metadata": {
        "gather": {
          "logged": 1721734153627
        },
        "jupyter": {
          "outputs_hidden": false,
          "source_hidden": false
        },
        "nteract": {
          "transient": {
            "deleting": false
          }
        }
      },
      "outputs": [
        {
          "data": {
            "text/html": [
              "<table style=\"width:100%\"><tr><th>Experiment</th><th>Name</th><th>Type</th><th>Status</th><th>Details Page</th></tr><tr><td>german_credit_training_v6</td><td>plucky_window_w5mk2qhzfz</td><td>command</td><td>Starting</td><td><a href=\"https://ml.azure.com/runs/plucky_window_w5mk2qhzfz?wsid=/subscriptions/0d86e202-dfd4-4954-bdc4-ba82f5e270bd/resourcegroups/GLMLPOs/workspaces/azureml&amp;tid=904e9a61-6ae1-4978-87de-569b3878366c\" target=\"_blank\" rel=\"noopener\">Link to Azure Machine Learning studio</a></td></tr></table>"
            ],
            "text/plain": [
              "Command({'parameters': {}, 'init': False, 'name': 'plucky_window_w5mk2qhzfz', 'type': 'command', 'status': 'Starting', 'log_files': None, 'description': None, 'tags': {}, 'properties': {'_azureml.ComputeTargetType': 'amlctrain', '_azureml.ClusterName': 'cpu-cluster-model-serving', 'ContentSnapshotId': '4558c21f-7746-41fd-888d-ef9f335e2e7d'}, 'print_as_yaml': False, 'id': '/subscriptions/0d86e202-dfd4-4954-bdc4-ba82f5e270bd/resourceGroups/GLMLPOs/providers/Microsoft.MachineLearningServices/workspaces/azureml/jobs/plucky_window_w5mk2qhzfz', 'Resource__source_path': '', 'base_path': '/mnt/batch/tasks/shared/LS_root/mounts/clusters/comw6/code/Users/Tasnim_1717885446059', 'creation_context': <azure.ai.ml.entities._system_data.SystemData object at 0x7f6e025a5f90>, 'serialize': <msrest.serialization.Serializer object at 0x7f6e0252f400>, 'allowed_keys': {}, 'key_restriction': False, 'logger': <TraceLogger attr_dict (WARNING)>, 'display_name': 'dt_prediction_v6', 'experiment_name': 'german_credit_training_v6', 'compute': 'cpu-cluster-model-serving', 'services': {'Tracking': {'endpoint': 'azureml://eastus.api.azureml.ms/mlflow/v1.0/subscriptions/0d86e202-dfd4-4954-bdc4-ba82f5e270bd/resourceGroups/GLMLPOs/providers/Microsoft.MachineLearningServices/workspaces/azureml?', 'type': 'Tracking'}, 'Studio': {'endpoint': 'https://ml.azure.com/runs/plucky_window_w5mk2qhzfz?wsid=/subscriptions/0d86e202-dfd4-4954-bdc4-ba82f5e270bd/resourcegroups/GLMLPOs/workspaces/azureml&tid=904e9a61-6ae1-4978-87de-569b3878366c', 'type': 'Studio'}}, 'comment': None, 'job_inputs': {'data': {'type': 'uri_file', 'path': 'azureml://datastores/workspaceblobstore/paths/LocalUpload/e4f181ec257972f5104e26cc40eab0c1/german_credit_azure.csv', 'mode': 'ro_mount'}, 'test_train_ratio': '0.2'}, 'job_outputs': {'default': {'type': 'uri_folder', 'path': 'azureml://datastores/workspaceartifactstore/ExperimentRun/dcid.plucky_window_w5mk2qhzfz', 'mode': 'rw_mount'}}, 'inputs': {'data': <azure.ai.ml.entities._job.pipeline._io.base.NodeInput object at 0x7f6e0252e8f0>, 'test_train_ratio': <azure.ai.ml.entities._job.pipeline._io.base.NodeInput object at 0x7f6e0252dc60>}, 'outputs': {'default': <azure.ai.ml.entities._job.pipeline._io.base.NodeOutput object at 0x7f6e0252e200>}, 'component': CommandComponent({'latest_version': None, 'intellectual_property': None, 'auto_increment_version': True, 'source': 'REMOTE.WORKSPACE.JOB', 'is_anonymous': False, 'auto_delete_setting': None, 'name': 'plucky_window_w5mk2qhzfz', 'description': None, 'tags': {}, 'properties': {}, 'print_as_yaml': False, 'id': None, 'Resource__source_path': None, 'base_path': '/mnt/batch/tasks/shared/LS_root/mounts/clusters/comw6/code/Users/Tasnim_1717885446059', 'creation_context': <azure.ai.ml.entities._system_data.SystemData object at 0x7f6e025a5f90>, 'serialize': <msrest.serialization.Serializer object at 0x7f6e0252e020>, 'command': 'python score-dt.py --data ${{inputs.data}} --test_train_ratio ${{inputs.test_train_ratio}}', 'code': '/subscriptions/0d86e202-dfd4-4954-bdc4-ba82f5e270bd/resourceGroups/GLMLPOs/providers/Microsoft.MachineLearningServices/workspaces/azureml/codes/f5492a24-a1cb-463b-b2f1-267fba9f67a7/versions/1', 'environment_variables': {}, 'environment': 'azureml:AzureML-sklearn-0.24-ubuntu18.04-py37-cpu@latest', 'distribution': None, 'resources': None, 'queue_settings': None, 'version': None, 'schema': None, 'type': 'command', 'display_name': 'dt_prediction_v6', 'is_deterministic': True, 'inputs': {'data': {'type': 'uri_file', 'path': 'azureml://datastores/workspaceblobstore/paths/LocalUpload/e4f181ec257972f5104e26cc40eab0c1/german_credit_azure.csv', 'mode': 'ro_mount'}, 'test_train_ratio': {'type': 'string', 'default': '0.2'}}, 'outputs': {'default': {'type': 'uri_folder', 'path': 'azureml://datastores/workspaceartifactstore/ExperimentRun/dcid.plucky_window_w5mk2qhzfz', 'mode': 'rw_mount'}}, 'yaml_str': None, 'other_parameter': {'status': 'Starting', 'parameters': {}}, 'additional_includes': []}), 'referenced_control_flow_node_instance_id': None, 'kwargs': {'services': {'Tracking': {'endpoint': 'azureml://eastus.api.azureml.ms/mlflow/v1.0/subscriptions/0d86e202-dfd4-4954-bdc4-ba82f5e270bd/resourceGroups/GLMLPOs/providers/Microsoft.MachineLearningServices/workspaces/azureml?', 'type': 'Tracking'}, 'Studio': {'endpoint': 'https://ml.azure.com/runs/plucky_window_w5mk2qhzfz?wsid=/subscriptions/0d86e202-dfd4-4954-bdc4-ba82f5e270bd/resourcegroups/GLMLPOs/workspaces/azureml&tid=904e9a61-6ae1-4978-87de-569b3878366c', 'type': 'Studio'}}, 'status': 'Starting', 'creation_context': <azure.ai.ml.entities._system_data.SystemData object at 0x7f6e025a5f90>}, 'instance_id': '1f8d5b42-d10d-46f8-b20f-e936a79e1d8b', 'source': 'BUILDER', 'validate_required_input_not_provided': True, 'limits': None, 'identity': None, 'distribution': None, 'environment_variables': {}, 'environment': 'azureml:AzureML-sklearn-0.24-ubuntu18.04-py37-cpu@latest', 'resources': {'instance_count': 1, 'shm_size': '2g'}, 'queue_settings': None, 'swept': False})"
            ]
          },
          "execution_count": 14,
          "metadata": {},
          "output_type": "execute_result"
        }
      ],
      "source": [
        "# ml_client.create_or_update will create a new job if it does not exist or update the existing job if it does\n",
        "ml_client.create_or_update(job)"
      ]
    },
    {
      "cell_type": "markdown",
      "metadata": {
        "nteract": {
          "transient": {
            "deleting": false
          }
        }
      },
      "source": [
        "### Endpoint Creation"
      ]
    },
    {
      "cell_type": "markdown",
      "metadata": {
        "nteract": {
          "transient": {
            "deleting": false
          }
        }
      },
      "source": [
        "We use a managed endpoint to receive requests. With the abstractions provided by Azure ML we can attach multiple models to this end point. Depending on the performance of the model variants behind the endpoint, we could shift traffic dynamically.  "
      ]
    },
    {
      "cell_type": "code",
      "execution_count": 15,
      "metadata": {
        "gather": {
          "logged": 1721734445391
        },
        "jupyter": {
          "outputs_hidden": false,
          "source_hidden": false
        },
        "nteract": {
          "transient": {
            "deleting": false
          }
        }
      },
      "outputs": [],
      "source": [
        "# Importing the required modules\n",
        "\n",
        "import pandas as pd\n",
        "\n",
        "from azure.ai.ml import MLClient\n",
        "\n",
        "from azure.identity import InteractiveBrowserCredential\n",
        "\n",
        "from azure.ai.ml.entities import (\n",
        "    ManagedOnlineEndpoint,\n",
        "    ManagedOnlineDeployment,\n",
        "    Model,\n",
        "    CodeConfiguration\n",
        ")\n",
        "from azure.ai.ml.constants import AssetTypes"
      ]
    },
    {
      "cell_type": "code",
      "execution_count": 16,
      "metadata": {
        "gather": {
          "logged": 1721734449496
        },
        "jupyter": {
          "outputs_hidden": false,
          "source_hidden": false
        },
        "nteract": {
          "transient": {
            "deleting": false
          }
        }
      },
      "outputs": [],
      "source": [
        "online_endpoint_name = \"german-credit-classifier-end-p\""
      ]
    },
    {
      "cell_type": "code",
      "execution_count": 17,
      "metadata": {
        "gather": {
          "logged": 1721734455488
        },
        "jupyter": {
          "outputs_hidden": false,
          "source_hidden": false
        },
        "nteract": {
          "transient": {
            "deleting": false
          }
        }
      },
      "outputs": [],
      "source": [
        "endpoint = ManagedOnlineEndpoint(\n",
        "    name=online_endpoint_name, # Name of the endpoint\n",
        "    description=\"Model to predict german credit\", # Description of the endpoint\n",
        "    auth_mode=\"aml_token\" # Authentication mode for the endpoint\n",
        ")"
      ]
    },
    {
      "cell_type": "markdown",
      "metadata": {
        "nteract": {
          "transient": {
            "deleting": false
          }
        }
      },
      "source": [
        "Using the `MLClient` created earlier, we will now create the Endpoint in the workspace. This command will start the endpoint creation and return a confirmation response while the endpoint creation continues."
      ]
    },
    {
      "cell_type": "code",
      "execution_count": 18,
      "metadata": {
        "gather": {
          "logged": 1721734561653
        },
        "jupyter": {
          "outputs_hidden": false,
          "source_hidden": false
        },
        "nteract": {
          "transient": {
            "deleting": false
          }
        }
      },
      "outputs": [
        {
          "data": {
            "text/plain": [
              "ManagedOnlineEndpoint({'public_network_access': 'Enabled', 'provisioning_state': 'Succeeded', 'scoring_uri': 'https://german-credit-classifier-end-p.eastus.inference.ml.azure.com/score', 'openapi_uri': 'https://german-credit-classifier-end-p.eastus.inference.ml.azure.com/swagger.json', 'name': 'german-credit-classifier-end-p', 'description': 'Model to predict german credit', 'tags': {}, 'properties': {'createdBy': 'Tasnim', 'createdAt': '2024-07-23T11:34:28.733261+0000', 'lastModifiedAt': '2024-07-23T11:34:28.733261+0000', 'azureml.onlineendpointid': '/subscriptions/0d86e202-dfd4-4954-bdc4-ba82f5e270bd/resourcegroups/glmlpos/providers/microsoft.machinelearningservices/workspaces/azureml/onlineendpoints/german-credit-classifier-end-p', 'AzureAsyncOperationUri': 'https://management.azure.com/subscriptions/0d86e202-dfd4-4954-bdc4-ba82f5e270bd/providers/Microsoft.MachineLearningServices/locations/eastus/mfeOperationsStatus/oeidp:5e9d3499-2742-4096-88c0-21665b0a7675:4ad4af7a-4ad6-4c52-b2fe-a6214ed9fc3c?api-version=2022-02-01-preview'}, 'print_as_yaml': False, 'id': '/subscriptions/0d86e202-dfd4-4954-bdc4-ba82f5e270bd/resourceGroups/GLMLPOs/providers/Microsoft.MachineLearningServices/workspaces/azureml/onlineEndpoints/german-credit-classifier-end-p', 'Resource__source_path': '', 'base_path': '/mnt/batch/tasks/shared/LS_root/mounts/clusters/comw6/code/Users/Tasnim_1717885446059', 'creation_context': None, 'serialize': <msrest.serialization.Serializer object at 0x7f6de9c9f820>, 'auth_mode': 'aml_token', 'location': 'eastus', 'identity': <azure.ai.ml.entities._credentials.IdentityConfiguration object at 0x7f6de9c9fdc0>, 'traffic': {}, 'mirror_traffic': {}, 'kind': 'Managed'})"
            ]
          },
          "execution_count": 18,
          "metadata": {},
          "output_type": "execute_result"
        }
      ],
      "source": [
        "ml_client.online_endpoints.begin_create_or_update(endpoint).result()"
      ]
    },
    {
      "cell_type": "markdown",
      "metadata": {
        "nteract": {
          "transient": {
            "deleting": false
          }
        }
      },
      "source": [
        "### Registering Models"
      ]
    },
    {
      "cell_type": "markdown",
      "metadata": {
        "nteract": {
          "transient": {
            "deleting": false
          }
        }
      },
      "source": [
        "**Gradient Boosting Model**"
      ]
    },
    {
      "cell_type": "code",
      "execution_count": 19,
      "metadata": {
        "gather": {
          "logged": 1721734699344
        },
        "jupyter": {
          "outputs_hidden": false,
          "source_hidden": false
        },
        "nteract": {
          "transient": {
            "deleting": false
          }
        }
      },
      "outputs": [],
      "source": [
        "registered_model_GB= ml_client.models.get(\n",
        "    name=\"GradientBoosting_GC\",\n",
        "    version=1\n",
        ")"
      ]
    },
    {
      "cell_type": "code",
      "execution_count": 20,
      "metadata": {
        "gather": {
          "logged": 1721734702870
        },
        "jupyter": {
          "outputs_hidden": false,
          "source_hidden": false
        },
        "nteract": {
          "transient": {
            "deleting": false
          }
        }
      },
      "outputs": [
        {
          "data": {
            "text/plain": [
              "Model({'job_name': 'maroon_pocket_40vfxj5p04', 'intellectual_property': None, 'is_anonymous': False, 'auto_increment_version': False, 'auto_delete_setting': None, 'name': 'GradientBoosting_GC', 'description': None, 'tags': {}, 'properties': {'flavors.python_function': '{\\n  \"model_path\": \"model.pkl\",\\n  \"predict_fn\": \"predict\",\\n  \"loader_module\": \"mlflow.sklearn\",\\n  \"python_version\": \"3.7.16\",\\n  \"env\": \"conda.yaml\"\\n}', 'flavors.sklearn': '{\\n  \"pickled_model\": \"model.pkl\",\\n  \"sklearn_version\": \"0.24.1\",\\n  \"serialization_format\": \"cloudpickle\",\\n  \"code\": null\\n}', 'flavors': 'python_function,sklearn', 'azureml.artifactPrefix': 'ExperimentRun/dcid.maroon_pocket_40vfxj5p04/GradientBoosting_GC', 'model_json': '{\"run_id\": \"maroon_pocket_40vfxj5p04\", \"artifact_path\": \"GradientBoosting_GC\", \"utc_time_created\": \"2024-07-23 11:24:58.824411\", \"flavors\": {\"python_function\": {\"model_path\": \"model.pkl\", \"predict_fn\": \"predict\", \"loader_module\": \"mlflow.sklearn\", \"python_version\": \"3.7.16\", \"env\": \"conda.yaml\"}, \"sklearn\": {\"pickled_model\": \"model.pkl\", \"sklearn_version\": \"0.24.1\", \"serialization_format\": \"cloudpickle\", \"code\": null}}, \"model_uuid\": \"c8a5b6514fd744418282e59fcabf214a\", \"mlflow_version\": \"1.30.1\"}', 'azureml.storagePath': 'ExperimentRun/dcid.maroon_pocket_40vfxj5p04/GradientBoosting_GC', 'mlflow.modelSourceUri': 'azureml://experiments/german_credit_training_v6/runs/maroon_pocket_40vfxj5p04/artifacts/GradientBoosting_GC'}, 'print_as_yaml': False, 'id': '/subscriptions/0d86e202-dfd4-4954-bdc4-ba82f5e270bd/resourceGroups/GLMLPOs/providers/Microsoft.MachineLearningServices/workspaces/azureml/models/GradientBoosting_GC/versions/1', 'Resource__source_path': '', 'base_path': '/mnt/batch/tasks/shared/LS_root/mounts/clusters/comw6/code/Users/Tasnim_1717885446059', 'creation_context': <azure.ai.ml.entities._system_data.SystemData object at 0x7f6de9c9f9d0>, 'serialize': <msrest.serialization.Serializer object at 0x7f6de9c9f7f0>, 'version': '1', 'latest_version': None, 'path': 'azureml://subscriptions/0d86e202-dfd4-4954-bdc4-ba82f5e270bd/resourceGroups/GLMLPOs/workspaces/azureml/datastores/workspaceartifactstore/paths/ExperimentRun/dcid.maroon_pocket_40vfxj5p04/GradientBoosting_GC', 'datastore': None, 'utc_time_created': None, 'flavors': {'python_function': {'model_path': 'model.pkl', 'predict_fn': 'predict', 'loader_module': 'mlflow.sklearn', 'python_version': '3.7.16', 'env': 'conda.yaml'}, 'sklearn': {'pickled_model': 'model.pkl', 'sklearn_version': '0.24.1', 'serialization_format': 'cloudpickle', 'code': ''}}, 'arm_type': 'model_version', 'type': 'mlflow_model', 'stage': 'Development'})"
            ]
          },
          "execution_count": 20,
          "metadata": {},
          "output_type": "execute_result"
        }
      ],
      "source": [
        "registered_model_GB"
      ]
    },
    {
      "cell_type": "markdown",
      "metadata": {
        "nteract": {
          "transient": {
            "deleting": false
          }
        }
      },
      "source": [
        "**Decision Tree model**"
      ]
    },
    {
      "cell_type": "code",
      "execution_count": 21,
      "metadata": {
        "gather": {
          "logged": 1721734707503
        },
        "jupyter": {
          "outputs_hidden": false,
          "source_hidden": false
        },
        "nteract": {
          "transient": {
            "deleting": false
          }
        }
      },
      "outputs": [],
      "source": [
        "registered_model_DT = ml_client.models.get(\n",
        "    name=\"Decisiontree_GC\",\n",
        "    version=1\n",
        ")"
      ]
    },
    {
      "cell_type": "code",
      "execution_count": 22,
      "metadata": {
        "gather": {
          "logged": 1721734712458
        },
        "jupyter": {
          "outputs_hidden": false,
          "source_hidden": false
        },
        "nteract": {
          "transient": {
            "deleting": false
          }
        }
      },
      "outputs": [
        {
          "data": {
            "text/plain": [
              "Model({'job_name': 'plucky_window_w5mk2qhzfz', 'intellectual_property': None, 'is_anonymous': False, 'auto_increment_version': False, 'auto_delete_setting': None, 'name': 'Decisiontree_GC', 'description': None, 'tags': {}, 'properties': {'flavors.python_function': '{\\n  \"model_path\": \"model.pkl\",\\n  \"predict_fn\": \"predict\",\\n  \"loader_module\": \"mlflow.sklearn\",\\n  \"python_version\": \"3.7.16\",\\n  \"env\": \"conda.yaml\"\\n}', 'flavors.sklearn': '{\\n  \"pickled_model\": \"model.pkl\",\\n  \"sklearn_version\": \"0.24.1\",\\n  \"serialization_format\": \"cloudpickle\",\\n  \"code\": null\\n}', 'flavors': 'python_function,sklearn', 'azureml.artifactPrefix': 'ExperimentRun/dcid.plucky_window_w5mk2qhzfz/Decisiontree_GC', 'model_json': '{\"run_id\": \"plucky_window_w5mk2qhzfz\", \"artifact_path\": \"Decisiontree_GC\", \"utc_time_created\": \"2024-07-23 11:29:54.671128\", \"flavors\": {\"python_function\": {\"model_path\": \"model.pkl\", \"predict_fn\": \"predict\", \"loader_module\": \"mlflow.sklearn\", \"python_version\": \"3.7.16\", \"env\": \"conda.yaml\"}, \"sklearn\": {\"pickled_model\": \"model.pkl\", \"sklearn_version\": \"0.24.1\", \"serialization_format\": \"cloudpickle\", \"code\": null}}, \"model_uuid\": \"4d542b1f79b543c69977d8eb8fc1c668\", \"mlflow_version\": \"1.30.1\"}', 'azureml.storagePath': 'ExperimentRun/dcid.plucky_window_w5mk2qhzfz/Decisiontree_GC', 'mlflow.modelSourceUri': 'azureml://experiments/german_credit_training_v6/runs/plucky_window_w5mk2qhzfz/artifacts/Decisiontree_GC'}, 'print_as_yaml': False, 'id': '/subscriptions/0d86e202-dfd4-4954-bdc4-ba82f5e270bd/resourceGroups/GLMLPOs/providers/Microsoft.MachineLearningServices/workspaces/azureml/models/Decisiontree_GC/versions/1', 'Resource__source_path': '', 'base_path': '/mnt/batch/tasks/shared/LS_root/mounts/clusters/comw6/code/Users/Tasnim_1717885446059', 'creation_context': <azure.ai.ml.entities._system_data.SystemData object at 0x7f6de9c9f8b0>, 'serialize': <msrest.serialization.Serializer object at 0x7f6de9c9fa00>, 'version': '1', 'latest_version': None, 'path': 'azureml://subscriptions/0d86e202-dfd4-4954-bdc4-ba82f5e270bd/resourceGroups/GLMLPOs/workspaces/azureml/datastores/workspaceartifactstore/paths/ExperimentRun/dcid.plucky_window_w5mk2qhzfz/Decisiontree_GC', 'datastore': None, 'utc_time_created': None, 'flavors': {'python_function': {'model_path': 'model.pkl', 'predict_fn': 'predict', 'loader_module': 'mlflow.sklearn', 'python_version': '3.7.16', 'env': 'conda.yaml'}, 'sklearn': {'pickled_model': 'model.pkl', 'sklearn_version': '0.24.1', 'serialization_format': 'cloudpickle', 'code': ''}}, 'arm_type': 'model_version', 'type': 'mlflow_model', 'stage': 'Development'})"
            ]
          },
          "execution_count": 22,
          "metadata": {},
          "output_type": "execute_result"
        }
      ],
      "source": [
        "registered_model_DT"
      ]
    },
    {
      "cell_type": "markdown",
      "metadata": {
        "nteract": {
          "transient": {
            "deleting": false
          }
        }
      },
      "source": [
        "### Deployment Scripts"
      ]
    },
    {
      "cell_type": "markdown",
      "metadata": {
        "nteract": {
          "transient": {
            "deleting": false
          }
        }
      },
      "source": [
        "**The script is split into two main functions:**\n",
        "\n",
        "* **init()**: This function is responsible for loading the trained ML model. It uses the mlflow library to load the model from the AZUREML_MODEL_DIR environment variable. The input_schema variable is also set in this function by extracting it from the model metadata.\n",
        "\n",
        "\n",
        "* **run(raw_data)**: This function accepts raw data in JSON format, parses the input data from the request, and scores the data using the loaded ML model. The input data is extracted from the json_data object and transformed into the expected input format for the model using infer_and_parse_json_input function from mlflow.pyfunc.scoring_server module. The model's predict() function is then called to generate predictions. The input data and the predictions are logged using the logger.info() function, with the logger object being initialized in the code's beginning. Finally, the predictions are converted to JSON format using the predictions_to_json() function from mlflow.pyfunc.scoring_server module and returned as a string.\n",
        "\n",
        "The code also initializes a logger object to log messages to Azure Application Insights using the AzureLogHandler from the opencensus.ext.azure.log_exporter library. The connection string to the Application Insights instance is provided in the application_insights_connection_string variable.\n",
        "\n",
        "Overall, the code performs the necessary steps to load a trained ML model and score data using that model, while also logging relevant information to Azure Application Insights."
      ]
    },
    {
      "cell_type": "markdown",
      "metadata": {
        "nteract": {
          "transient": {
            "deleting": false
          }
        }
      },
      "source": [
        "**Decision tree Script:**"
      ]
    },
    {
      "cell_type": "code",
      "execution_count": 23,
      "metadata": {
        "jupyter": {
          "outputs_hidden": false,
          "source_hidden": false
        },
        "nteract": {
          "transient": {
            "deleting": false
          }
        }
      },
      "outputs": [
        {
          "name": "stdout",
          "output_type": "stream",
          "text": [
            "Overwriting ./src/dt_script.py\n"
          ]
        }
      ],
      "source": [
        "%%writefile {src_dir}/dt_script.py\n",
        "\n",
        "# Import necessary libraries and modules\n",
        "import logging\n",
        "import os\n",
        "import json\n",
        "import mlflow\n",
        "from io import StringIO\n",
        "from mlflow.pyfunc.scoring_server import infer_and_parse_json_input, predictions_to_json\n",
        "\n",
        "######################LOGGER#####################\n",
        "# Set up Azure logging\n",
        "import logging\n",
        "from logging import Logger\n",
        "from opencensus.ext.azure.log_exporter import AzureLogHandler\n",
        "\n",
        "# Connect to Application Insights and set logging level to INFO\n",
        "application_insights_connection_string= 'InstrumentationKey=d50fc31c-52d4-45e3-b741-649302c188a2;IngestionEndpoint=https://eastus-8.in.applicationinsights.azure.com/;LiveEndpoint=https://eastus.livediagnostics.monitor.azure.com/;ApplicationId=15f4a6c8-eaf8-44f1-8668-1245a2691459'\n",
        "handler = AzureLogHandler(\n",
        "connection_string=application_insights_connection_string)\n",
        "logger = logging.getLogger()\n",
        "logger.addHandler(handler)\n",
        "logger.setLevel(logging.INFO)\n",
        "\n",
        "####################################################\n",
        "\n",
        "# Define the init() function to load the MLflow model\n",
        "def init():\n",
        "    global model\n",
        "    global input_schema\n",
        "    # \"model\" is the path of the mlflow artifacts when the model was registered. For automl\n",
        "    # models, this is generally \"mlflow-model\".\n",
        "    model_path = os.path.join(os.getenv(\"AZUREML_MODEL_DIR\"), \"Decisiontree_GC\")\n",
        "    model = mlflow.pyfunc.load_model(model_path)\n",
        "    input_schema = model.metadata.get_input_schema()\n",
        "\n",
        "# Define the run() function to make predictions using the loaded model\n",
        "def run(raw_data):\n",
        "    # Parse input data\n",
        "    json_data = json.loads(raw_data)\n",
        "    if \"input_data\" not in json_data.keys():\n",
        "        raise Exception(\"Request must contain a top level key named 'input_data'\")\n",
        "    serving_input = json_data[\"input_data\"]\n",
        "    serving_input_str = json.dumps(serving_input)  # Convert the dictionary to a JSON string\n",
        "    data = infer_and_parse_json_input(serving_input_str, input_schema)\n",
        "\n",
        "    # Make predictions\n",
        "    predictions = model.predict(data)\n",
        "\n",
        "    # Log the input data and predictions to Azure\n",
        "    logger.info(\"Data:{0},Predictions:{1}\".format(str(data),str(predictions)))\n",
        "\n",
        "    # Convert predictions to JSON format and return\n",
        "    result = StringIO()\n",
        "    predictions_to_json(predictions, result)\n",
        "    return result.getvalue()\n"
      ]
    },
    {
      "cell_type": "markdown",
      "metadata": {
        "nteract": {
          "transient": {
            "deleting": false
          }
        }
      },
      "source": [
        "**Gradient Boosting :**"
      ]
    },
    {
      "cell_type": "code",
      "execution_count": 24,
      "metadata": {
        "jupyter": {
          "outputs_hidden": false,
          "source_hidden": false
        },
        "nteract": {
          "transient": {
            "deleting": false
          }
        }
      },
      "outputs": [
        {
          "name": "stdout",
          "output_type": "stream",
          "text": [
            "Overwriting ./src/gb_script.py\n"
          ]
        }
      ],
      "source": [
        "%%writefile {src_dir}/gb_script.py\n",
        "\n",
        "# Import necessary libraries and modules\n",
        "import logging\n",
        "import os\n",
        "import json\n",
        "import mlflow\n",
        "from io import StringIO\n",
        "from mlflow.pyfunc.scoring_server import infer_and_parse_json_input, predictions_to_json\n",
        "\n",
        "######################LOGGER#####################\n",
        "# Set up Azure logging\n",
        "from opencensus.ext.azure.log_exporter import AzureLogHandler\n",
        "\n",
        "# Connect to Application Insights and set logging level to INFO\n",
        "application_insights_connection_string= 'InstrumentationKey=d50fc31c-52d4-45e3-b741-649302c188a2;IngestionEndpoint=https://eastus-8.in.applicationinsights.azure.com/;LiveEndpoint=https://eastus.livediagnostics.monitor.azure.com/;ApplicationId=15f4a6c8-eaf8-44f1-8668-1245a2691459'\n",
        "handler = AzureLogHandler(\n",
        "connection_string=application_insights_connection_string)\n",
        "logger = logging.getLogger()\n",
        "logger.addHandler(handler)\n",
        "logger.setLevel(logging.INFO)\n",
        "\n",
        "####################################################\n",
        "\n",
        "# Define the init() function to load the MLflow model\n",
        "def init():\n",
        "    global model\n",
        "    global input_schema\n",
        "    # \"model\" is the path of the mlflow artifacts when the model was registered. For automl\n",
        "    # models, this is generally \"mlflow-model\".\n",
        "    model_path = os.path.join(os.getenv(\"AZUREML_MODEL_DIR\"), \"GradientBoosting_GC\")\n",
        "    model = mlflow.pyfunc.load_model(model_path)\n",
        "    input_schema = model.metadata.get_input_schema()\n",
        "\n",
        "# Define the run() function to make predictions using the loaded model\n",
        "def run(raw_data):\n",
        "    # Parse input data\n",
        "    json_data = json.loads(raw_data)\n",
        "    if \"input_data\" not in json_data.keys():\n",
        "        raise Exception(\"Request must contain a top level key named 'input_data'\")\n",
        "    serving_input = json_data[\"input_data\"]\n",
        "    serving_input_str = json.dumps(serving_input)  # Convert the dictionary to a JSON string\n",
        "    data = infer_and_parse_json_input(serving_input_str, input_schema)\n",
        "\n",
        "    # Make predictions\n",
        "    predictions = model.predict(data)\n",
        "\n",
        "    # Log the input data and predictions to Azure\n",
        "    logger.info(\"Data:{0},Predictions:{1}\".format(str(data),str(predictions)))\n",
        "\n",
        "    # Convert predictions to JSON format and return\n",
        "    result = StringIO()\n",
        "    predictions_to_json(predictions, result)\n",
        "    return result.getvalue()\n"
      ]
    },
    {
      "cell_type": "code",
      "execution_count": 209,
      "metadata": {
        "gather": {
          "logged": 1683813401595
        },
        "jupyter": {
          "outputs_hidden": false,
          "source_hidden": false
        },
        "nteract": {
          "transient": {
            "deleting": false
          }
        }
      },
      "outputs": [
        {
          "data": {
            "image/png": "[encoded data removed]",
            "text/plain": [
              "<IPython.core.display.Image object>"
            ]
          },
          "execution_count": 209,
          "metadata": {},
          "output_type": "execute_result"
        }
      ],
      "source": [
        "display.Image(\"Image/Image3.png\")"
      ]
    },
    {
      "cell_type": "markdown",
      "metadata": {
        "nteract": {
          "transient": {
            "deleting": false
          }
        }
      },
      "source": [
        "### Infrastructure & Execution"
      ]
    },
    {
      "cell_type": "markdown",
      "metadata": {
        "nteract": {
          "transient": {
            "deleting": false
          }
        }
      },
      "source": [
        "Blue Deployment:\n",
        "\n",
        "* The base model that we will deploy is referred to as the \"blue\" model by convention. After creation, this endpoint will be serving 100% of the traffic with the variant tagged as the blue version (the SVM model in this case).\n",
        "\n",
        "* Once the server logic is implemented in the scoring script, we define the infrastructure we need to host and serve the model. Azure ML handles the resources needed to create the model server and attaches it to the endpoint with the name specified (note that the managed endpoint was created in the first step)."
      ]
    },
    {
      "cell_type": "code",
      "execution_count": 25,
      "metadata": {
        "gather": {
          "logged": 1721734914903
        },
        "jupyter": {
          "outputs_hidden": false,
          "source_hidden": false
        },
        "nteract": {
          "transient": {
            "deleting": false
          }
        }
      },
      "outputs": [],
      "source": [
        "blue_deployment = ManagedOnlineDeployment(\n",
        "    name=\"blue\", # Name for the deployment\n",
        "    endpoint_name=online_endpoint_name, # Name of the endpoint to deploy to\n",
        "    model=registered_model_DT, # Registered model to deploy\n",
        "    environment=\"AzureML-sklearn-0.24-ubuntu18.04-py37-cpu@latest\", # Environment to use for the deployment\n",
        "    code_configuration=CodeConfiguration(\n",
        "        code='./src',\n",
        "        scoring_script='dt_script.py'# Name of the scoring script\n",
        "    ),\n",
        "    instance_type=\"Standard_E2S_v3\",\n",
        "    instance_count=1 # Number of instances to create\n",
        ")"
      ]
    },
    {
      "cell_type": "code",
      "execution_count": 26,
      "metadata": {
        "gather": {
          "logged": 1721735307180
        },
        "jupyter": {
          "outputs_hidden": false,
          "source_hidden": false
        },
        "nteract": {
          "transient": {
            "deleting": false
          }
        }
      },
      "outputs": [
        {
          "name": "stderr",
          "output_type": "stream",
          "text": [
            "Check: endpoint german-credit-classifier-end-p exists\n",
            "\u001b[32mUploading src (0.02 MBs): 100%|██████████| 16630/16630 [00:00<00:00, 216236.76it/s]\n",
            "\u001b[39m\n",
            "\n"
          ]
        },
        {
          "name": "stdout",
          "output_type": "stream",
          "text": [
            "...................................................................."
          ]
        },
        {
          "data": {
            "text/plain": [
              "ManagedOnlineDeployment({'private_network_connection': None, 'package_model': False, 'provisioning_state': 'Succeeded', 'endpoint_name': 'german-credit-classifier-end-p', 'type': 'Managed', 'name': 'blue', 'description': None, 'tags': {}, 'properties': {'AzureAsyncOperationUri': 'https://management.azure.com/subscriptions/0d86e202-dfd4-4954-bdc4-ba82f5e270bd/providers/Microsoft.MachineLearningServices/locations/eastus/mfeOperationsStatus/odidp:5e9d3499-2742-4096-88c0-21665b0a7675:d04c381a-741a-4fe9-b86f-6544fe429ce7?api-version=2023-04-01-preview'}, 'print_as_yaml': False, 'id': '/subscriptions/0d86e202-dfd4-4954-bdc4-ba82f5e270bd/resourceGroups/GLMLPOs/providers/Microsoft.MachineLearningServices/workspaces/azureml/onlineEndpoints/german-credit-classifier-end-p/deployments/blue', 'Resource__source_path': '', 'base_path': '/mnt/batch/tasks/shared/LS_root/mounts/clusters/comw6/code/Users/Tasnim_1717885446059', 'creation_context': None, 'serialize': <msrest.serialization.Serializer object at 0x7f6de9d09ae0>, 'model': '/subscriptions/0d86e202-dfd4-4954-bdc4-ba82f5e270bd/resourceGroups/GLMLPOs/providers/Microsoft.MachineLearningServices/workspaces/azureml/models/Decisiontree_GC/versions/1', 'code_configuration': {'code': '/subscriptions/0d86e202-dfd4-4954-bdc4-ba82f5e270bd/resourceGroups/GLMLPOs/providers/Microsoft.MachineLearningServices/workspaces/azureml/codes/ff5cc18d-9c78-4eb0-9c51-c0dda2b79afd/versions/1'}, 'environment': '/subscriptions/0d86e202-dfd4-4954-bdc4-ba82f5e270bd/resourceGroups/GLMLPOs/providers/Microsoft.MachineLearningServices/workspaces/azureml/environments/AzureML-sklearn-0.24-ubuntu18.04-py37-cpu/versions/49', 'environment_variables': {'EXAMPLE_ENV_VAR': 'EXAMPLE_VALUE', 'AZUREML_MODEL_DIR': '/var/azureml-app/azureml-models/Decisiontree_GC/1', 'AZUREML_ENTRY_SCRIPT': 'dt_script.py', 'AML_APP_ROOT': '/var/azureml-app/src'}, 'app_insights_enabled': False, 'scale_settings': <azure.ai.ml.entities._deployment.scale_settings.DefaultScaleSettings object at 0x7f6de9d089d0>, 'request_settings': <azure.ai.ml.entities._deployment.deployment_settings.OnlineRequestSettings object at 0x7f6de9cebca0>, 'liveness_probe': <azure.ai.ml.entities._deployment.deployment_settings.ProbeSettings object at 0x7f6de9d088b0>, 'readiness_probe': <azure.ai.ml.entities._deployment.deployment_settings.ProbeSettings object at 0x7f6de9d08460>, 'instance_count': 1, 'arm_type': 'online_deployment', 'model_mount_path': None, 'instance_type': 'Standard_E2S_v3', 'data_collector': None, 'egress_public_network_access': 'Enabled'})"
            ]
          },
          "execution_count": 26,
          "metadata": {},
          "output_type": "execute_result"
        }
      ],
      "source": [
        "ml_client.online_deployments.begin_create_or_update(blue_deployment).result()"
      ]
    },
    {
      "cell_type": "markdown",
      "metadata": {
        "nteract": {
          "transient": {
            "deleting": false
          }
        }
      },
      "source": [
        "### Testing"
      ]
    },
    {
      "cell_type": "markdown",
      "metadata": {
        "nteract": {
          "transient": {
            "deleting": false
          }
        }
      },
      "source": [
        "Invoking the specified endpoint and deployment with a sample input file named \"sample-data_dt.json\". It then prints the output of the invocation."
      ]
    },
    {
      "cell_type": "code",
      "execution_count": 27,
      "metadata": {
        "gather": {
          "logged": 1721735380421
        },
        "jupyter": {
          "outputs_hidden": false,
          "source_hidden": false
        },
        "nteract": {
          "transient": {
            "deleting": false
          }
        }
      },
      "outputs": [
        {
          "name": "stdout",
          "output_type": "stream",
          "text": [
            "\"[1, 1]\"\n"
          ]
        }
      ],
      "source": [
        "print(\n",
        "    ml_client.online_endpoints.invoke(\n",
        "        endpoint_name=online_endpoint_name,\n",
        "        deployment_name=\"blue\",\n",
        "        request_file=\"sample-data_dt.json\"\n",
        "    )\n",
        ")"
      ]
    },
    {
      "cell_type": "markdown",
      "metadata": {
        "nteract": {
          "transient": {
            "deleting": false
          }
        }
      },
      "source": [
        "### Canary Deployment"
      ]
    },
    {
      "cell_type": "markdown",
      "metadata": {
        "nteract": {
          "transient": {
            "deleting": false
          }
        }
      },
      "source": [
        "An important scenario in model deployment is the need to upgrade an existing baseline model to a newer version. A recommended approach to ensure a careful transition from the existing model (\"blue\") to the new version (\"green\") is through a canary deployment. This method involves directing a controlled portion of the live traffic to the upgraded endpoint. A/B testing is then performed to determine if the upgraded version performs better than the baseline on live data. The canary deployment process begins by diverting a small percentage of live traffic (typically between 1% and 5%) to the upgraded version and gradually increasing traffic if there are no errors."
      ]
    },
    {
      "cell_type": "markdown",
      "metadata": {
        "nteract": {
          "transient": {
            "deleting": false
          }
        }
      },
      "source": [
        "#### Green Deployment"
      ]
    },
    {
      "cell_type": "markdown",
      "metadata": {
        "nteract": {
          "transient": {
            "deleting": false
          }
        }
      },
      "source": [
        "We use the second registered model as a \"green\" variant to be attached to the managed end point."
      ]
    },
    {
      "cell_type": "code",
      "execution_count": 31,
      "metadata": {
        "gather": {
          "logged": 1721736160593
        },
        "jupyter": {
          "outputs_hidden": false,
          "source_hidden": false
        },
        "nteract": {
          "transient": {
            "deleting": false
          }
        }
      },
      "outputs": [],
      "source": [
        "green_deployment = ManagedOnlineDeployment(\n",
        "    name=\"green\", # The name of the deployment\n",
        "    endpoint_name=online_endpoint_name,\n",
        "    model=registered_model_GB,\n",
        "    environment=\"machine_learning_model_serving@latest\",\n",
        "    code_configuration=CodeConfiguration(\n",
        "        code='./src',\n",
        "        scoring_script='gb_script.py'# The name of the scoring script to run for the deployment\n",
        "    ),\n",
        "    instance_type=\"Standard_E2S_v3\",\n",
        "    instance_count=1\n",
        ")"
      ]
    },
    {
      "cell_type": "code",
      "execution_count": 32,
      "metadata": {
        "gather": {
          "logged": 1721736209638
        },
        "jupyter": {
          "outputs_hidden": false,
          "source_hidden": false
        },
        "nteract": {
          "transient": {
            "deleting": false
          }
        }
      },
      "outputs": [
        {
          "name": "stderr",
          "output_type": "stream",
          "text": [
            "Check: endpoint german-credit-classifier-end-p exists\n"
          ]
        },
        {
          "name": "stdout",
          "output_type": "stream",
          "text": [
            "........."
          ]
        },
        {
          "data": {
            "text/plain": [
              "ManagedOnlineDeployment({'private_network_connection': None, 'package_model': False, 'provisioning_state': 'Succeeded', 'endpoint_name': 'german-credit-classifier-end-p', 'type': 'Managed', 'name': 'green', 'description': None, 'tags': {}, 'properties': {'AzureAsyncOperationUri': 'https://management.azure.com/subscriptions/0d86e202-dfd4-4954-bdc4-ba82f5e270bd/providers/Microsoft.MachineLearningServices/locations/eastus/mfeOperationsStatus/odidp:5e9d3499-2742-4096-88c0-21665b0a7675:762181e5-a883-4301-b22a-86f8b4e7118f?api-version=2023-04-01-preview'}, 'print_as_yaml': False, 'id': '/subscriptions/0d86e202-dfd4-4954-bdc4-ba82f5e270bd/resourceGroups/GLMLPOs/providers/Microsoft.MachineLearningServices/workspaces/azureml/onlineEndpoints/german-credit-classifier-end-p/deployments/green', 'Resource__source_path': '', 'base_path': '/mnt/batch/tasks/shared/LS_root/mounts/clusters/comw6/code/Users/Tasnim_1717885446059', 'creation_context': None, 'serialize': <msrest.serialization.Serializer object at 0x7f6e025a6500>, 'model': '/subscriptions/0d86e202-dfd4-4954-bdc4-ba82f5e270bd/resourceGroups/GLMLPOs/providers/Microsoft.MachineLearningServices/workspaces/azureml/models/GradientBoosting_GC/versions/1', 'code_configuration': {'code': '/subscriptions/0d86e202-dfd4-4954-bdc4-ba82f5e270bd/resourceGroups/GLMLPOs/providers/Microsoft.MachineLearningServices/workspaces/azureml/codes/ff5cc18d-9c78-4eb0-9c51-c0dda2b79afd/versions/1'}, 'environment': '/subscriptions/0d86e202-dfd4-4954-bdc4-ba82f5e270bd/resourceGroups/GLMLPOs/providers/Microsoft.MachineLearningServices/workspaces/azureml/environments/machine_learning_model_serving/versions/6', 'environment_variables': {'AZUREML_MODEL_DIR': '/var/azureml-app/azureml-models/GradientBoosting_GC/1', 'AZUREML_ENTRY_SCRIPT': 'gb_script.py', 'AML_APP_ROOT': '/var/azureml-app/src'}, 'app_insights_enabled': False, 'scale_settings': <azure.ai.ml.entities._deployment.scale_settings.DefaultScaleSettings object at 0x7f6de9d0a8c0>, 'request_settings': <azure.ai.ml.entities._deployment.deployment_settings.OnlineRequestSettings object at 0x7f6de6e37880>, 'liveness_probe': <azure.ai.ml.entities._deployment.deployment_settings.ProbeSettings object at 0x7f6de9d0a6e0>, 'readiness_probe': <azure.ai.ml.entities._deployment.deployment_settings.ProbeSettings object at 0x7f6e122f6740>, 'instance_count': 1, 'arm_type': 'online_deployment', 'model_mount_path': None, 'instance_type': 'Standard_DS1_v2', 'data_collector': None, 'egress_public_network_access': 'Enabled'})"
            ]
          },
          "execution_count": 32,
          "metadata": {},
          "output_type": "execute_result"
        }
      ],
      "source": [
        "ml_client.online_deployments.begin_create_or_update(green_deployment).result()"
      ]
    },
    {
      "cell_type": "markdown",
      "metadata": {
        "nteract": {
          "transient": {
            "deleting": false
          }
        }
      },
      "source": [
        "### Testing"
      ]
    },
    {
      "cell_type": "markdown",
      "metadata": {
        "nteract": {
          "transient": {
            "deleting": false
          }
        }
      },
      "source": [
        "Invoking the specified endpoint and deployment with a sample input file named \"sample-data_gb.json\". It then prints the output of the invocation."
      ]
    },
    {
      "cell_type": "code",
      "execution_count": 33,
      "metadata": {
        "gather": {
          "logged": 1721736221772
        },
        "jupyter": {
          "outputs_hidden": false,
          "source_hidden": false
        },
        "nteract": {
          "transient": {
            "deleting": false
          }
        }
      },
      "outputs": [
        {
          "name": "stdout",
          "output_type": "stream",
          "text": [
            "\"{\\\"predictions\\\": [1, 1]}\"\n"
          ]
        }
      ],
      "source": [
        "print(\n",
        "    ml_client.online_endpoints.invoke(\n",
        "        endpoint_name=online_endpoint_name,\n",
        "        deployment_name=\"green\",\n",
        "        request_file=\"sample-data_gb.json\"\n",
        "    )\n",
        ")"
      ]
    },
    {
      "cell_type": "markdown",
      "metadata": {
        "nteract": {
          "transient": {
            "deleting": false
          }
        }
      },
      "source": [
        "### Safe rollout"
      ]
    },
    {
      "cell_type": "markdown",
      "metadata": {
        "nteract": {
          "transient": {
            "deleting": false
          }
        }
      },
      "source": [
        "Once the green variant is tested, we can define the traffic proportions to be allocated dynamically, gradually increasing the traffic seen by the green endpoint, eventually rolling over completely."
      ]
    },
    {
      "cell_type": "code",
      "execution_count": 34,
      "metadata": {
        "gather": {
          "logged": 1721736268479
        },
        "jupyter": {
          "outputs_hidden": false,
          "source_hidden": false
        },
        "nteract": {
          "transient": {
            "deleting": false
          }
        }
      },
      "outputs": [],
      "source": [
        "endpoint.traffic = {\"blue\": 99, \"green\": 1}"
      ]
    },
    {
      "cell_type": "code",
      "execution_count": 35,
      "metadata": {
        "gather": {
          "logged": 1721736307193
        },
        "jupyter": {
          "outputs_hidden": false,
          "source_hidden": false
        },
        "nteract": {
          "transient": {
            "deleting": false
          }
        }
      },
      "outputs": [
        {
          "data": {
            "text/plain": [
              "ManagedOnlineEndpoint({'public_network_access': 'Enabled', 'provisioning_state': 'Succeeded', 'scoring_uri': 'https://german-credit-classifier-end-p.eastus.inference.ml.azure.com/score', 'openapi_uri': 'https://german-credit-classifier-end-p.eastus.inference.ml.azure.com/swagger.json', 'name': 'german-credit-classifier-end-p', 'description': 'Model to predict german credit', 'tags': {}, 'properties': {'createdBy': 'Tasnim', 'createdAt': '2024-07-23T11:34:28.733261+0000', 'lastModifiedAt': '2024-07-23T11:34:28.733261+0000', 'azureml.onlineendpointid': '/subscriptions/0d86e202-dfd4-4954-bdc4-ba82f5e270bd/resourcegroups/glmlpos/providers/microsoft.machinelearningservices/workspaces/azureml/onlineendpoints/german-credit-classifier-end-p', 'AzureAsyncOperationUri': 'https://management.azure.com/subscriptions/0d86e202-dfd4-4954-bdc4-ba82f5e270bd/providers/Microsoft.MachineLearningServices/locations/eastus/mfeOperationsStatus/oeidp:5e9d3499-2742-4096-88c0-21665b0a7675:bfb6e242-9408-442a-bf99-70e72d770d23?api-version=2022-02-01-preview'}, 'print_as_yaml': False, 'id': '/subscriptions/0d86e202-dfd4-4954-bdc4-ba82f5e270bd/resourceGroups/GLMLPOs/providers/Microsoft.MachineLearningServices/workspaces/azureml/onlineEndpoints/german-credit-classifier-end-p', 'Resource__source_path': '', 'base_path': '/mnt/batch/tasks/shared/LS_root/mounts/clusters/comw6/code/Users/Tasnim_1717885446059', 'creation_context': None, 'serialize': <msrest.serialization.Serializer object at 0x7f6de6e37310>, 'auth_mode': 'aml_token', 'location': 'eastus', 'identity': <azure.ai.ml.entities._credentials.IdentityConfiguration object at 0x7f6de9ceb250>, 'traffic': {'blue': 99, 'green': 1}, 'mirror_traffic': {}, 'kind': 'Managed'})"
            ]
          },
          "execution_count": 35,
          "metadata": {},
          "output_type": "execute_result"
        }
      ],
      "source": [
        "ml_client.begin_create_or_update(endpoint).result()"
      ]
    },
    {
      "cell_type": "code",
      "execution_count": 214,
      "metadata": {
        "gather": {
          "logged": 1683814241553
        },
        "jupyter": {
          "outputs_hidden": false,
          "source_hidden": false
        },
        "nteract": {
          "transient": {
            "deleting": false
          }
        }
      },
      "outputs": [
        {
          "data": {
            "image/png": "[encoded data removed]",
            "text/plain": [
              "<IPython.core.display.Image object>"
            ]
          },
          "execution_count": 214,
          "metadata": {},
          "output_type": "execute_result"
        }
      ],
      "source": [
        "display.Image(\"Image/Image4.png\")"
      ]
    },
    {
      "cell_type": "markdown",
      "metadata": {
        "nteract": {
          "transient": {
            "deleting": false
          }
        }
      },
      "source": [
        "### Clean up"
      ]
    },
    {
      "cell_type": "markdown",
      "metadata": {
        "nteract": {
          "transient": {
            "deleting": false
          }
        }
      },
      "source": [
        "To avoid costs incurred on idle endpoints during the testing phase, it is a good practise to delete end points. "
      ]
    },
    {
      "cell_type": "code",
      "execution_count": 38,
      "metadata": {
        "gather": {
          "logged": 1686928351986
        },
        "jupyter": {
          "outputs_hidden": false,
          "source_hidden": false
        },
        "nteract": {
          "transient": {
            "deleting": false
          }
        }
      },
      "outputs": [
        {
          "data": {
            "text/plain": [
              "<azure.core.polling._poller.LROPoller at 0x7ffac521dcf0>"
            ]
          },
          "execution_count": 38,
          "metadata": {},
          "output_type": "execute_result"
        },
        {
          "name": "stdout",
          "output_type": "stream",
          "text": [
            "..............."
          ]
        }
      ],
      "source": [
        "ml_client.online_endpoints.begin_delete(name=online_endpoint_name)"
      ]
    }
  ],
  "metadata": {
    "kernel_info": {
      "name": "python310-sdkv2"
    },
    "kernelspec": {
      "display_name": "Python 3.10 - SDK v2",
      "language": "python",
      "name": "python310-sdkv2"
    },
    "language_info": {
      "codemirror_mode": {
        "name": "ipython",
        "version": 3
      },
      "file_extension": ".py",
      "mimetype": "text/x-python",
      "name": "python",
      "nbconvert_exporter": "python",
      "pygments_lexer": "ipython3",
      "version": "3.10.14"
    },
    "microsoft": {
      "host": {
        "AzureML": {
          "notebookHasBeenCompleted": true
        }
      },
      "ms_spell_check": {
        "ms_spell_check_language": "en"
      }
    },
    "nteract": {
      "version": "nteract-front-end@1.0.0"
    }
  },
  "nbformat": 4,
  "nbformat_minor": 2
}
